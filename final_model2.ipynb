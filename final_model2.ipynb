{
 "cells": [
  {
   "cell_type": "code",
   "execution_count": 1,
   "metadata": {
    "colab": {
     "base_uri": "https://localhost:8080/"
    },
    "executionInfo": {
     "elapsed": 5764,
     "status": "ok",
     "timestamp": 1606164241902,
     "user": {
      "displayName": "ayush anand",
      "photoUrl": "",
      "userId": "02011070043119957523"
     },
     "user_tz": 300
    },
    "id": "_WCXOdd8KFCm",
    "outputId": "550ee401-2197-4a73-d178-e861826fc4d6"
   },
   "outputs": [],
   "source": [
    "#!pip install fsspec\n",
    "#!pip install gcsfs \n",
    " \n",
    " \n"
   ]
  },
  {
   "cell_type": "code",
   "execution_count": 2,
   "metadata": {
    "executionInfo": {
     "elapsed": 6068,
     "status": "ok",
     "timestamp": 1606164242223,
     "user": {
      "displayName": "ayush anand",
      "photoUrl": "",
      "userId": "02011070043119957523"
     },
     "user_tz": 300
    },
    "id": "D8ay9KAeQ39p"
   },
   "outputs": [],
   "source": [
    "import numpy as np\n",
    "import matplotlib.pyplot as plt\n",
    "import pandas as pd\n",
    "import os\n",
    "import random\n",
    "import scipy\n",
    "import seaborn as sns\n",
    "import math\n",
    "from scipy import stats"
   ]
  },
  {
   "cell_type": "code",
   "execution_count": 3,
   "metadata": {
    "executionInfo": {
     "elapsed": 6870,
     "status": "ok",
     "timestamp": 1606164243033,
     "user": {
      "displayName": "ayush anand",
      "photoUrl": "",
      "userId": "02011070043119957523"
     },
     "user_tz": 300
    },
    "id": "ErDk7X7Km1va"
   },
   "outputs": [],
   "source": [
    "df = pd.read_csv('gs://capstoragebucket2020/All_joined_v11.csv')"
   ]
  },
  {
   "cell_type": "code",
   "execution_count": 4,
   "metadata": {
    "colab": {
     "base_uri": "https://localhost:8080/",
     "height": 383
    },
    "executionInfo": {
     "elapsed": 6865,
     "status": "ok",
     "timestamp": 1606164243039,
     "user": {
      "displayName": "ayush anand",
      "photoUrl": "",
      "userId": "02011070043119957523"
     },
     "user_tz": 300
    },
    "id": "4Z_JNtj_RC9P",
    "outputId": "fb4a180e-cd65-4f89-c4bb-4e83c5982fd5"
   },
   "outputs": [
    {
     "data": {
      "text/html": [
       "<div>\n",
       "<style scoped>\n",
       "    .dataframe tbody tr th:only-of-type {\n",
       "        vertical-align: middle;\n",
       "    }\n",
       "\n",
       "    .dataframe tbody tr th {\n",
       "        vertical-align: top;\n",
       "    }\n",
       "\n",
       "    .dataframe thead th {\n",
       "        text-align: right;\n",
       "    }\n",
       "</style>\n",
       "<table border=\"1\" class=\"dataframe\">\n",
       "  <thead>\n",
       "    <tr style=\"text-align: right;\">\n",
       "      <th></th>\n",
       "      <th>latitude</th>\n",
       "      <th>longitude</th>\n",
       "      <th>quarter</th>\n",
       "      <th>year</th>\n",
       "      <th>sum_etage_hors_sol</th>\n",
       "      <th>sum_nombre_logement</th>\n",
       "      <th>nombre_logement_per_population</th>\n",
       "      <th>avg_annee_construction</th>\n",
       "      <th>sum_superficie_terrain</th>\n",
       "      <th>area</th>\n",
       "      <th>...</th>\n",
       "      <th>superficie_batiment_per_population</th>\n",
       "      <th>incendie_count_last_100</th>\n",
       "      <th>incendie_count_last_300</th>\n",
       "      <th>alarm_incendie_count_last_100</th>\n",
       "      <th>total_crimes_last_100</th>\n",
       "      <th>vols_count_last_100</th>\n",
       "      <th>mefait_count_last_100</th>\n",
       "      <th>vol_de_vehicule_count_last_100</th>\n",
       "      <th>introduction_count_last_100</th>\n",
       "      <th>infractions_entrainant_count_last_100</th>\n",
       "    </tr>\n",
       "  </thead>\n",
       "  <tbody>\n",
       "    <tr>\n",
       "      <th>0</th>\n",
       "      <td>45.40</td>\n",
       "      <td>-73.96</td>\n",
       "      <td>2</td>\n",
       "      <td>2017</td>\n",
       "      <td>0</td>\n",
       "      <td>0</td>\n",
       "      <td>0.000000</td>\n",
       "      <td>1900.00</td>\n",
       "      <td>2732</td>\n",
       "      <td>1.57174</td>\n",
       "      <td>...</td>\n",
       "      <td>2.360795</td>\n",
       "      <td>0</td>\n",
       "      <td>0</td>\n",
       "      <td>1</td>\n",
       "      <td>0</td>\n",
       "      <td>0</td>\n",
       "      <td>0</td>\n",
       "      <td>0</td>\n",
       "      <td>0</td>\n",
       "      <td>0</td>\n",
       "    </tr>\n",
       "    <tr>\n",
       "      <th>1</th>\n",
       "      <td>45.40</td>\n",
       "      <td>-73.96</td>\n",
       "      <td>3</td>\n",
       "      <td>2019</td>\n",
       "      <td>0</td>\n",
       "      <td>0</td>\n",
       "      <td>0.000000</td>\n",
       "      <td>1900.00</td>\n",
       "      <td>2732</td>\n",
       "      <td>1.57174</td>\n",
       "      <td>...</td>\n",
       "      <td>2.360795</td>\n",
       "      <td>0</td>\n",
       "      <td>0</td>\n",
       "      <td>0</td>\n",
       "      <td>0</td>\n",
       "      <td>0</td>\n",
       "      <td>0</td>\n",
       "      <td>0</td>\n",
       "      <td>0</td>\n",
       "      <td>0</td>\n",
       "    </tr>\n",
       "    <tr>\n",
       "      <th>2</th>\n",
       "      <td>45.41</td>\n",
       "      <td>-73.95</td>\n",
       "      <td>1</td>\n",
       "      <td>2015</td>\n",
       "      <td>728</td>\n",
       "      <td>730</td>\n",
       "      <td>2.324841</td>\n",
       "      <td>1949.98</td>\n",
       "      <td>253537</td>\n",
       "      <td>0.21093</td>\n",
       "      <td>...</td>\n",
       "      <td>257.929936</td>\n",
       "      <td>0</td>\n",
       "      <td>0</td>\n",
       "      <td>0</td>\n",
       "      <td>0</td>\n",
       "      <td>0</td>\n",
       "      <td>0</td>\n",
       "      <td>0</td>\n",
       "      <td>0</td>\n",
       "      <td>0</td>\n",
       "    </tr>\n",
       "    <tr>\n",
       "      <th>3</th>\n",
       "      <td>45.41</td>\n",
       "      <td>-73.95</td>\n",
       "      <td>2</td>\n",
       "      <td>2015</td>\n",
       "      <td>728</td>\n",
       "      <td>730</td>\n",
       "      <td>2.324841</td>\n",
       "      <td>1949.98</td>\n",
       "      <td>253537</td>\n",
       "      <td>0.21093</td>\n",
       "      <td>...</td>\n",
       "      <td>257.929936</td>\n",
       "      <td>0</td>\n",
       "      <td>0</td>\n",
       "      <td>2</td>\n",
       "      <td>5</td>\n",
       "      <td>1</td>\n",
       "      <td>1</td>\n",
       "      <td>1</td>\n",
       "      <td>1</td>\n",
       "      <td>0</td>\n",
       "    </tr>\n",
       "    <tr>\n",
       "      <th>4</th>\n",
       "      <td>45.41</td>\n",
       "      <td>-73.95</td>\n",
       "      <td>3</td>\n",
       "      <td>2015</td>\n",
       "      <td>728</td>\n",
       "      <td>730</td>\n",
       "      <td>2.324841</td>\n",
       "      <td>1949.98</td>\n",
       "      <td>253537</td>\n",
       "      <td>0.21093</td>\n",
       "      <td>...</td>\n",
       "      <td>257.929936</td>\n",
       "      <td>0</td>\n",
       "      <td>0</td>\n",
       "      <td>3</td>\n",
       "      <td>7</td>\n",
       "      <td>1</td>\n",
       "      <td>2</td>\n",
       "      <td>1</td>\n",
       "      <td>1</td>\n",
       "      <td>0</td>\n",
       "    </tr>\n",
       "    <tr>\n",
       "      <th>5</th>\n",
       "      <td>45.41</td>\n",
       "      <td>-73.95</td>\n",
       "      <td>4</td>\n",
       "      <td>2015</td>\n",
       "      <td>728</td>\n",
       "      <td>730</td>\n",
       "      <td>2.324841</td>\n",
       "      <td>1949.98</td>\n",
       "      <td>253537</td>\n",
       "      <td>0.21093</td>\n",
       "      <td>...</td>\n",
       "      <td>257.929936</td>\n",
       "      <td>0</td>\n",
       "      <td>0</td>\n",
       "      <td>1</td>\n",
       "      <td>7</td>\n",
       "      <td>0</td>\n",
       "      <td>1</td>\n",
       "      <td>2</td>\n",
       "      <td>2</td>\n",
       "      <td>0</td>\n",
       "    </tr>\n",
       "    <tr>\n",
       "      <th>6</th>\n",
       "      <td>45.41</td>\n",
       "      <td>-73.95</td>\n",
       "      <td>1</td>\n",
       "      <td>2016</td>\n",
       "      <td>728</td>\n",
       "      <td>730</td>\n",
       "      <td>2.324841</td>\n",
       "      <td>1949.98</td>\n",
       "      <td>253537</td>\n",
       "      <td>0.21093</td>\n",
       "      <td>...</td>\n",
       "      <td>257.929936</td>\n",
       "      <td>1</td>\n",
       "      <td>1</td>\n",
       "      <td>0</td>\n",
       "      <td>3</td>\n",
       "      <td>0</td>\n",
       "      <td>2</td>\n",
       "      <td>0</td>\n",
       "      <td>1</td>\n",
       "      <td>0</td>\n",
       "    </tr>\n",
       "    <tr>\n",
       "      <th>7</th>\n",
       "      <td>45.41</td>\n",
       "      <td>-73.95</td>\n",
       "      <td>2</td>\n",
       "      <td>2016</td>\n",
       "      <td>728</td>\n",
       "      <td>730</td>\n",
       "      <td>2.324841</td>\n",
       "      <td>1949.98</td>\n",
       "      <td>253537</td>\n",
       "      <td>0.21093</td>\n",
       "      <td>...</td>\n",
       "      <td>257.929936</td>\n",
       "      <td>1</td>\n",
       "      <td>1</td>\n",
       "      <td>4</td>\n",
       "      <td>2</td>\n",
       "      <td>0</td>\n",
       "      <td>2</td>\n",
       "      <td>0</td>\n",
       "      <td>0</td>\n",
       "      <td>0</td>\n",
       "    </tr>\n",
       "    <tr>\n",
       "      <th>8</th>\n",
       "      <td>45.41</td>\n",
       "      <td>-73.95</td>\n",
       "      <td>3</td>\n",
       "      <td>2016</td>\n",
       "      <td>728</td>\n",
       "      <td>730</td>\n",
       "      <td>2.324841</td>\n",
       "      <td>1949.98</td>\n",
       "      <td>253537</td>\n",
       "      <td>0.21093</td>\n",
       "      <td>...</td>\n",
       "      <td>257.929936</td>\n",
       "      <td>0</td>\n",
       "      <td>1</td>\n",
       "      <td>2</td>\n",
       "      <td>4</td>\n",
       "      <td>0</td>\n",
       "      <td>1</td>\n",
       "      <td>0</td>\n",
       "      <td>2</td>\n",
       "      <td>0</td>\n",
       "    </tr>\n",
       "    <tr>\n",
       "      <th>9</th>\n",
       "      <td>45.41</td>\n",
       "      <td>-73.95</td>\n",
       "      <td>4</td>\n",
       "      <td>2016</td>\n",
       "      <td>728</td>\n",
       "      <td>730</td>\n",
       "      <td>2.324841</td>\n",
       "      <td>1949.98</td>\n",
       "      <td>253537</td>\n",
       "      <td>0.21093</td>\n",
       "      <td>...</td>\n",
       "      <td>257.929936</td>\n",
       "      <td>0</td>\n",
       "      <td>1</td>\n",
       "      <td>0</td>\n",
       "      <td>3</td>\n",
       "      <td>1</td>\n",
       "      <td>0</td>\n",
       "      <td>0</td>\n",
       "      <td>2</td>\n",
       "      <td>0</td>\n",
       "    </tr>\n",
       "  </tbody>\n",
       "</table>\n",
       "<p>10 rows × 34 columns</p>\n",
       "</div>"
      ],
      "text/plain": [
       "   latitude  longitude  quarter  year  sum_etage_hors_sol  \\\n",
       "0     45.40     -73.96        2  2017                   0   \n",
       "1     45.40     -73.96        3  2019                   0   \n",
       "2     45.41     -73.95        1  2015                 728   \n",
       "3     45.41     -73.95        2  2015                 728   \n",
       "4     45.41     -73.95        3  2015                 728   \n",
       "5     45.41     -73.95        4  2015                 728   \n",
       "6     45.41     -73.95        1  2016                 728   \n",
       "7     45.41     -73.95        2  2016                 728   \n",
       "8     45.41     -73.95        3  2016                 728   \n",
       "9     45.41     -73.95        4  2016                 728   \n",
       "\n",
       "   sum_nombre_logement  nombre_logement_per_population  \\\n",
       "0                    0                        0.000000   \n",
       "1                    0                        0.000000   \n",
       "2                  730                        2.324841   \n",
       "3                  730                        2.324841   \n",
       "4                  730                        2.324841   \n",
       "5                  730                        2.324841   \n",
       "6                  730                        2.324841   \n",
       "7                  730                        2.324841   \n",
       "8                  730                        2.324841   \n",
       "9                  730                        2.324841   \n",
       "\n",
       "   avg_annee_construction  sum_superficie_terrain     area  ...  \\\n",
       "0                 1900.00                    2732  1.57174  ...   \n",
       "1                 1900.00                    2732  1.57174  ...   \n",
       "2                 1949.98                  253537  0.21093  ...   \n",
       "3                 1949.98                  253537  0.21093  ...   \n",
       "4                 1949.98                  253537  0.21093  ...   \n",
       "5                 1949.98                  253537  0.21093  ...   \n",
       "6                 1949.98                  253537  0.21093  ...   \n",
       "7                 1949.98                  253537  0.21093  ...   \n",
       "8                 1949.98                  253537  0.21093  ...   \n",
       "9                 1949.98                  253537  0.21093  ...   \n",
       "\n",
       "   superficie_batiment_per_population  incendie_count_last_100  \\\n",
       "0                            2.360795                        0   \n",
       "1                            2.360795                        0   \n",
       "2                          257.929936                        0   \n",
       "3                          257.929936                        0   \n",
       "4                          257.929936                        0   \n",
       "5                          257.929936                        0   \n",
       "6                          257.929936                        1   \n",
       "7                          257.929936                        1   \n",
       "8                          257.929936                        0   \n",
       "9                          257.929936                        0   \n",
       "\n",
       "   incendie_count_last_300  alarm_incendie_count_last_100  \\\n",
       "0                        0                              1   \n",
       "1                        0                              0   \n",
       "2                        0                              0   \n",
       "3                        0                              2   \n",
       "4                        0                              3   \n",
       "5                        0                              1   \n",
       "6                        1                              0   \n",
       "7                        1                              4   \n",
       "8                        1                              2   \n",
       "9                        1                              0   \n",
       "\n",
       "   total_crimes_last_100  vols_count_last_100  mefait_count_last_100  \\\n",
       "0                      0                    0                      0   \n",
       "1                      0                    0                      0   \n",
       "2                      0                    0                      0   \n",
       "3                      5                    1                      1   \n",
       "4                      7                    1                      2   \n",
       "5                      7                    0                      1   \n",
       "6                      3                    0                      2   \n",
       "7                      2                    0                      2   \n",
       "8                      4                    0                      1   \n",
       "9                      3                    1                      0   \n",
       "\n",
       "   vol_de_vehicule_count_last_100  introduction_count_last_100  \\\n",
       "0                               0                            0   \n",
       "1                               0                            0   \n",
       "2                               0                            0   \n",
       "3                               1                            1   \n",
       "4                               1                            1   \n",
       "5                               2                            2   \n",
       "6                               0                            1   \n",
       "7                               0                            0   \n",
       "8                               0                            2   \n",
       "9                               0                            2   \n",
       "\n",
       "   infractions_entrainant_count_last_100  \n",
       "0                                      0  \n",
       "1                                      0  \n",
       "2                                      0  \n",
       "3                                      0  \n",
       "4                                      0  \n",
       "5                                      0  \n",
       "6                                      0  \n",
       "7                                      0  \n",
       "8                                      0  \n",
       "9                                      0  \n",
       "\n",
       "[10 rows x 34 columns]"
      ]
     },
     "execution_count": 4,
     "metadata": {},
     "output_type": "execute_result"
    }
   ],
   "source": [
    "df2=df.copy()\n",
    "\n",
    "\n",
    "df2.head(10)"
   ]
  },
  {
   "cell_type": "code",
   "execution_count": 5,
   "metadata": {
    "colab": {
     "base_uri": "https://localhost:8080/"
    },
    "executionInfo": {
     "elapsed": 8583,
     "status": "ok",
     "timestamp": 1606164244768,
     "user": {
      "displayName": "ayush anand",
      "photoUrl": "",
      "userId": "02011070043119957523"
     },
     "user_tz": 300
    },
    "id": "d7a_1s1gxtM0",
    "outputId": "2cccc840-09d5-414a-fe01-4020d208a32f"
   },
   "outputs": [
    {
     "name": "stdout",
     "output_type": "stream",
     "text": [
      "Requirement already satisfied: geopy in ./conda/lib/python3.8/site-packages (2.0.0)\n",
      "Requirement already satisfied: geographiclib<2,>=1.49 in ./conda/lib/python3.8/site-packages (from geopy) (1.50)\n"
     ]
    },
    {
     "name": "stderr",
     "output_type": "stream",
     "text": [
      "<ipython-input-5-325eb8ccd029>:12: SettingWithCopyWarning: \n",
      "A value is trying to be set on a copy of a slice from a DataFrame\n",
      "\n",
      "See the caveats in the documentation: https://pandas.pydata.org/pandas-docs/stable/user_guide/indexing.html#returning-a-view-versus-a-copy\n",
      "  df2['distance'][i]=dist(df2['latitude'][i], df2['longitude'][i])\n"
     ]
    }
   ],
   "source": [
    "!pip install geopy \n",
    "import geopy.distance\n",
    "\n",
    "def dist(x,y):\n",
    "  coords_1 = (45.504654, -73.56546)\n",
    "  coords_2 = (x, y)\n",
    "  return geopy.distance.distance(coords_1, coords_2).km\n",
    "\n",
    "df2['distance']=0\n",
    "\n",
    "for i in range(0,len(df2)-1):\n",
    "  df2['distance'][i]=dist(df2['latitude'][i], df2['longitude'][i])"
   ]
  },
  {
   "cell_type": "code",
   "execution_count": 6,
   "metadata": {
    "colab": {
     "base_uri": "https://localhost:8080/"
    },
    "executionInfo": {
     "elapsed": 8582,
     "status": "ok",
     "timestamp": 1606164244777,
     "user": {
      "displayName": "ayush anand",
      "photoUrl": "",
      "userId": "02011070043119957523"
     },
     "user_tz": 300
    },
    "id": "gZK4s3BOUWSg",
    "outputId": "75819dcd-c00d-4bc4-ccfc-5ae7cea5ed9c"
   },
   "outputs": [
    {
     "data": {
      "text/plain": [
       "0     7633\n",
       "1     2644\n",
       "2      961\n",
       "3      362\n",
       "4      151\n",
       "5       55\n",
       "6       19\n",
       "7        9\n",
       "9        4\n",
       "8        4\n",
       "10       1\n",
       "Name: incendie_count, dtype: int64"
      ]
     },
     "execution_count": 6,
     "metadata": {},
     "output_type": "execute_result"
    }
   ],
   "source": [
    "df2['incendie_count'].value_counts()"
   ]
  },
  {
   "cell_type": "code",
   "execution_count": 7,
   "metadata": {
    "colab": {
     "base_uri": "https://localhost:8080/"
    },
    "executionInfo": {
     "elapsed": 8575,
     "status": "ok",
     "timestamp": 1606164244780,
     "user": {
      "displayName": "ayush anand",
      "photoUrl": "",
      "userId": "02011070043119957523"
     },
     "user_tz": 300
    },
    "id": "s4jL2yzEUzgM",
    "outputId": "df1332ba-2bbd-466b-d072-c58eb297c3f4"
   },
   "outputs": [
    {
     "name": "stderr",
     "output_type": "stream",
     "text": [
      "<ipython-input-7-111c3b4d9195>:2: SettingWithCopyWarning: \n",
      "A value is trying to be set on a copy of a slice from a DataFrame\n",
      "\n",
      "See the caveats in the documentation: https://pandas.pydata.org/pandas-docs/stable/user_guide/indexing.html#returning-a-view-versus-a-copy\n",
      "  df2['fire'][df2['incendie_count']==0] = 0\n",
      "<ipython-input-7-111c3b4d9195>:3: SettingWithCopyWarning: \n",
      "A value is trying to be set on a copy of a slice from a DataFrame\n",
      "\n",
      "See the caveats in the documentation: https://pandas.pydata.org/pandas-docs/stable/user_guide/indexing.html#returning-a-view-versus-a-copy\n",
      "  df2['fire'][(df2['incendie_count']==1)] = 1\n",
      "<ipython-input-7-111c3b4d9195>:4: SettingWithCopyWarning: \n",
      "A value is trying to be set on a copy of a slice from a DataFrame\n",
      "\n",
      "See the caveats in the documentation: https://pandas.pydata.org/pandas-docs/stable/user_guide/indexing.html#returning-a-view-versus-a-copy\n",
      "  df2['fire'][df2['incendie_count']>=2] = 2\n"
     ]
    }
   ],
   "source": [
    "df2['fire'] = df2['incendie_count']\n",
    "df2['fire'][df2['incendie_count']==0] = 0\n",
    "df2['fire'][(df2['incendie_count']==1)] = 1\n",
    "df2['fire'][df2['incendie_count']>=2] = 2"
   ]
  },
  {
   "cell_type": "code",
   "execution_count": 8,
   "metadata": {
    "colab": {
     "base_uri": "https://localhost:8080/"
    },
    "executionInfo": {
     "elapsed": 8569,
     "status": "ok",
     "timestamp": 1606164244783,
     "user": {
      "displayName": "ayush anand",
      "photoUrl": "",
      "userId": "02011070043119957523"
     },
     "user_tz": 300
    },
    "id": "SSlxBac-VM8Z",
    "outputId": "e1a7833e-f5c4-4842-fd1a-162d5541c987"
   },
   "outputs": [
    {
     "data": {
      "text/plain": [
       "0    7633\n",
       "1    2644\n",
       "2    1566\n",
       "Name: fire, dtype: int64"
      ]
     },
     "execution_count": 8,
     "metadata": {},
     "output_type": "execute_result"
    }
   ],
   "source": [
    "df2['fire'].value_counts()"
   ]
  },
  {
   "cell_type": "code",
   "execution_count": 9,
   "metadata": {
    "executionInfo": {
     "elapsed": 8562,
     "status": "ok",
     "timestamp": 1606164244785,
     "user": {
      "displayName": "ayush anand",
      "photoUrl": "",
      "userId": "02011070043119957523"
     },
     "user_tz": 300
    },
    "id": "84uHpXkwyQpj"
   },
   "outputs": [],
   "source": [
    "df2 = df2.drop(\"latitude\", axis=1)\n",
    "df2 = df2.drop(\"longitude\", axis=1)     \n",
    "df2 = df2.drop(\"incendie_count\", axis=1)\n",
    "df3 = df2.drop(\"year\",axis=1)\n",
    "df3 = df3.drop(\"quarter\",axis=1)"
   ]
  },
  {
   "cell_type": "code",
   "execution_count": 10,
   "metadata": {
    "colab": {
     "base_uri": "https://localhost:8080/"
    },
    "executionInfo": {
     "elapsed": 8813,
     "status": "ok",
     "timestamp": 1606164245044,
     "user": {
      "displayName": "ayush anand",
      "photoUrl": "",
      "userId": "02011070043119957523"
     },
     "user_tz": 300
    },
    "id": "o_nFfiiJmbzq",
    "outputId": "b0755e78-49c3-4394-9597-72c261d1f524"
   },
   "outputs": [
    {
     "data": {
      "text/plain": [
       "fire                                     1.000000\n",
       "incendie_count_last_100                  0.505725\n",
       "sum_nombre_logement                      0.503540\n",
       "incendie_count_last_300                  0.489631\n",
       "sum_etage_hors_sol                       0.445073\n",
       "total_crimes_last_100                    0.432339\n",
       "introduction_count_last_100              0.404394\n",
       "mefait_count_last_100                    0.403223\n",
       "alarm_incendie_count_last_100            0.397760\n",
       "vols_count_last_100                      0.321872\n",
       "vol_de_vehicule_count_last_100           0.218539\n",
       "households_per_population                0.202810\n",
       "caserne_count                            0.163537\n",
       "dwellings_per_population                 0.153500\n",
       "sum_superficie_batiment                  0.133144\n",
       "sum_superficie_terrain                   0.085039\n",
       "dwellings                                0.067331\n",
       "infractions_entrainant_count_last_100    0.063383\n",
       "households                               0.040217\n",
       "nombre_logement_per_population           0.025062\n",
       "superficie_batiment_per_population       0.022907\n",
       "area_per_population                     -0.005304\n",
       "year                                    -0.010462\n",
       "quarter                                 -0.034149\n",
       "averageage                              -0.041041\n",
       "population                              -0.052815\n",
       "averagesizeofcensusfamilies             -0.070708\n",
       "workers                                 -0.084697\n",
       "workers_per_population                  -0.096410\n",
       "averagehouseholdsize                    -0.173379\n",
       "area                                    -0.207958\n",
       "avg_annee_construction                  -0.220145\n",
       "distance                                -0.353648\n",
       "Name: fire, dtype: float64"
      ]
     },
     "execution_count": 10,
     "metadata": {},
     "output_type": "execute_result"
    }
   ],
   "source": [
    "corr_matrix = df2.corr()\n",
    "corr_matrix[\"fire\"].sort_values(ascending=False)"
   ]
  },
  {
   "cell_type": "code",
   "execution_count": 11,
   "metadata": {
    "executionInfo": {
     "elapsed": 8808,
     "status": "ok",
     "timestamp": 1606164245047,
     "user": {
      "displayName": "ayush anand",
      "photoUrl": "",
      "userId": "02011070043119957523"
     },
     "user_tz": 300
    },
    "id": "_lW9FrQXz2-4"
   },
   "outputs": [],
   "source": [
    "X_raw=df3.drop(\"fire\", axis=1)"
   ]
  },
  {
   "cell_type": "code",
   "execution_count": 12,
   "metadata": {
    "executionInfo": {
     "elapsed": 8803,
     "status": "ok",
     "timestamp": 1606164245048,
     "user": {
      "displayName": "ayush anand",
      "photoUrl": "",
      "userId": "02011070043119957523"
     },
     "user_tz": 300
    },
    "id": "52Rj_gi1XV--"
   },
   "outputs": [],
   "source": [
    "from sklearn import preprocessing\n",
    "\n",
    "\n",
    "# standardize X and y before fitting multiple linear model\n",
    "X = pd.DataFrame(preprocessing.scale(X_raw))\n",
    "y = df3['fire'].copy()"
   ]
  },
  {
   "cell_type": "code",
   "execution_count": 13,
   "metadata": {
    "colab": {
     "base_uri": "https://localhost:8080/",
     "height": 444
    },
    "executionInfo": {
     "elapsed": 9011,
     "status": "ok",
     "timestamp": 1606164245267,
     "user": {
      "displayName": "ayush anand",
      "photoUrl": "",
      "userId": "02011070043119957523"
     },
     "user_tz": 300
    },
    "id": "ZAscLONIsiQJ",
    "outputId": "0cdc80cc-e267-4a73-90c0-34382bbcf4dd"
   },
   "outputs": [
    {
     "data": {
      "text/html": [
       "<div>\n",
       "<style scoped>\n",
       "    .dataframe tbody tr th:only-of-type {\n",
       "        vertical-align: middle;\n",
       "    }\n",
       "\n",
       "    .dataframe tbody tr th {\n",
       "        vertical-align: top;\n",
       "    }\n",
       "\n",
       "    .dataframe thead th {\n",
       "        text-align: right;\n",
       "    }\n",
       "</style>\n",
       "<table border=\"1\" class=\"dataframe\">\n",
       "  <thead>\n",
       "    <tr style=\"text-align: right;\">\n",
       "      <th></th>\n",
       "      <th>0</th>\n",
       "      <th>1</th>\n",
       "      <th>2</th>\n",
       "      <th>3</th>\n",
       "      <th>4</th>\n",
       "      <th>5</th>\n",
       "      <th>6</th>\n",
       "      <th>7</th>\n",
       "      <th>8</th>\n",
       "      <th>9</th>\n",
       "      <th>...</th>\n",
       "      <th>20</th>\n",
       "      <th>21</th>\n",
       "      <th>22</th>\n",
       "      <th>23</th>\n",
       "      <th>24</th>\n",
       "      <th>25</th>\n",
       "      <th>26</th>\n",
       "      <th>27</th>\n",
       "      <th>28</th>\n",
       "      <th>29</th>\n",
       "    </tr>\n",
       "  </thead>\n",
       "  <tbody>\n",
       "    <tr>\n",
       "      <th>0</th>\n",
       "      <td>-1.265550</td>\n",
       "      <td>-1.029609</td>\n",
       "      <td>-0.095593</td>\n",
       "      <td>-4.048701</td>\n",
       "      <td>-2.432395</td>\n",
       "      <td>-0.022705</td>\n",
       "      <td>-0.120996</td>\n",
       "      <td>-0.753436</td>\n",
       "      <td>-0.630050</td>\n",
       "      <td>0.055159</td>\n",
       "      <td>...</td>\n",
       "      <td>-0.634121</td>\n",
       "      <td>-0.759640</td>\n",
       "      <td>-0.655738</td>\n",
       "      <td>-0.790765</td>\n",
       "      <td>-0.451506</td>\n",
       "      <td>-0.691828</td>\n",
       "      <td>-0.815238</td>\n",
       "      <td>-0.644038</td>\n",
       "      <td>-0.111488</td>\n",
       "      <td>2.857580</td>\n",
       "    </tr>\n",
       "    <tr>\n",
       "      <th>1</th>\n",
       "      <td>-1.265550</td>\n",
       "      <td>-1.029609</td>\n",
       "      <td>-0.095593</td>\n",
       "      <td>-4.048701</td>\n",
       "      <td>-2.432395</td>\n",
       "      <td>-0.022705</td>\n",
       "      <td>-0.120996</td>\n",
       "      <td>-0.753436</td>\n",
       "      <td>-0.630050</td>\n",
       "      <td>0.055159</td>\n",
       "      <td>...</td>\n",
       "      <td>-0.634121</td>\n",
       "      <td>-0.759640</td>\n",
       "      <td>-0.744615</td>\n",
       "      <td>-0.790765</td>\n",
       "      <td>-0.451506</td>\n",
       "      <td>-0.691828</td>\n",
       "      <td>-0.815238</td>\n",
       "      <td>-0.644038</td>\n",
       "      <td>-0.111488</td>\n",
       "      <td>2.857580</td>\n",
       "    </tr>\n",
       "    <tr>\n",
       "      <th>2</th>\n",
       "      <td>-0.620745</td>\n",
       "      <td>-0.626044</td>\n",
       "      <td>-0.084744</td>\n",
       "      <td>-1.180362</td>\n",
       "      <td>-0.977545</td>\n",
       "      <td>-0.438656</td>\n",
       "      <td>-0.148880</td>\n",
       "      <td>-0.829859</td>\n",
       "      <td>-1.246526</td>\n",
       "      <td>-2.005104</td>\n",
       "      <td>...</td>\n",
       "      <td>-0.634121</td>\n",
       "      <td>-0.759640</td>\n",
       "      <td>-0.744615</td>\n",
       "      <td>-0.790765</td>\n",
       "      <td>-0.451506</td>\n",
       "      <td>-0.691828</td>\n",
       "      <td>-0.815238</td>\n",
       "      <td>-0.644038</td>\n",
       "      <td>-0.111488</td>\n",
       "      <td>2.714514</td>\n",
       "    </tr>\n",
       "    <tr>\n",
       "      <th>3</th>\n",
       "      <td>-0.620745</td>\n",
       "      <td>-0.626044</td>\n",
       "      <td>-0.084744</td>\n",
       "      <td>-1.180362</td>\n",
       "      <td>-0.977545</td>\n",
       "      <td>-0.438656</td>\n",
       "      <td>-0.148880</td>\n",
       "      <td>-0.829859</td>\n",
       "      <td>-1.246526</td>\n",
       "      <td>-2.005104</td>\n",
       "      <td>...</td>\n",
       "      <td>-0.634121</td>\n",
       "      <td>-0.759640</td>\n",
       "      <td>-0.566862</td>\n",
       "      <td>-0.544342</td>\n",
       "      <td>0.053041</td>\n",
       "      <td>-0.500908</td>\n",
       "      <td>-0.456401</td>\n",
       "      <td>-0.516917</td>\n",
       "      <td>-0.111488</td>\n",
       "      <td>2.714514</td>\n",
       "    </tr>\n",
       "    <tr>\n",
       "      <th>4</th>\n",
       "      <td>-0.620745</td>\n",
       "      <td>-0.626044</td>\n",
       "      <td>-0.084744</td>\n",
       "      <td>-1.180362</td>\n",
       "      <td>-0.977545</td>\n",
       "      <td>-0.438656</td>\n",
       "      <td>-0.148880</td>\n",
       "      <td>-0.829859</td>\n",
       "      <td>-1.246526</td>\n",
       "      <td>-2.005104</td>\n",
       "      <td>...</td>\n",
       "      <td>-0.634121</td>\n",
       "      <td>-0.759640</td>\n",
       "      <td>-0.477986</td>\n",
       "      <td>-0.445772</td>\n",
       "      <td>0.053041</td>\n",
       "      <td>-0.309989</td>\n",
       "      <td>-0.456401</td>\n",
       "      <td>-0.516917</td>\n",
       "      <td>-0.111488</td>\n",
       "      <td>2.714514</td>\n",
       "    </tr>\n",
       "    <tr>\n",
       "      <th>...</th>\n",
       "      <td>...</td>\n",
       "      <td>...</td>\n",
       "      <td>...</td>\n",
       "      <td>...</td>\n",
       "      <td>...</td>\n",
       "      <td>...</td>\n",
       "      <td>...</td>\n",
       "      <td>...</td>\n",
       "      <td>...</td>\n",
       "      <td>...</td>\n",
       "      <td>...</td>\n",
       "      <td>...</td>\n",
       "      <td>...</td>\n",
       "      <td>...</td>\n",
       "      <td>...</td>\n",
       "      <td>...</td>\n",
       "      <td>...</td>\n",
       "      <td>...</td>\n",
       "      <td>...</td>\n",
       "      <td>...</td>\n",
       "      <td>...</td>\n",
       "    </tr>\n",
       "    <tr>\n",
       "      <th>11838</th>\n",
       "      <td>-0.840404</td>\n",
       "      <td>-0.796868</td>\n",
       "      <td>-0.092602</td>\n",
       "      <td>0.294555</td>\n",
       "      <td>-1.443760</td>\n",
       "      <td>-0.405018</td>\n",
       "      <td>-0.150227</td>\n",
       "      <td>-0.140038</td>\n",
       "      <td>-0.196527</td>\n",
       "      <td>-0.169464</td>\n",
       "      <td>...</td>\n",
       "      <td>1.047073</td>\n",
       "      <td>0.084975</td>\n",
       "      <td>-0.744615</td>\n",
       "      <td>-0.642911</td>\n",
       "      <td>-0.451506</td>\n",
       "      <td>-0.500908</td>\n",
       "      <td>-0.815238</td>\n",
       "      <td>-0.516917</td>\n",
       "      <td>-0.111488</td>\n",
       "      <td>1.426923</td>\n",
       "    </tr>\n",
       "    <tr>\n",
       "      <th>11839</th>\n",
       "      <td>-0.840404</td>\n",
       "      <td>-0.796868</td>\n",
       "      <td>-0.092602</td>\n",
       "      <td>0.294555</td>\n",
       "      <td>-1.443760</td>\n",
       "      <td>-0.405018</td>\n",
       "      <td>-0.150227</td>\n",
       "      <td>-0.140038</td>\n",
       "      <td>-0.196527</td>\n",
       "      <td>-0.169464</td>\n",
       "      <td>...</td>\n",
       "      <td>-0.634121</td>\n",
       "      <td>0.084975</td>\n",
       "      <td>-0.744615</td>\n",
       "      <td>-0.495057</td>\n",
       "      <td>-0.451506</td>\n",
       "      <td>-0.691828</td>\n",
       "      <td>-0.097564</td>\n",
       "      <td>-0.389797</td>\n",
       "      <td>-0.111488</td>\n",
       "      <td>1.426923</td>\n",
       "    </tr>\n",
       "    <tr>\n",
       "      <th>11840</th>\n",
       "      <td>-0.840404</td>\n",
       "      <td>-0.796868</td>\n",
       "      <td>-0.092602</td>\n",
       "      <td>0.294555</td>\n",
       "      <td>-1.443760</td>\n",
       "      <td>-0.405018</td>\n",
       "      <td>-0.150227</td>\n",
       "      <td>-0.140038</td>\n",
       "      <td>-0.196527</td>\n",
       "      <td>-0.169464</td>\n",
       "      <td>...</td>\n",
       "      <td>-0.634121</td>\n",
       "      <td>0.084975</td>\n",
       "      <td>-0.744615</td>\n",
       "      <td>-0.692196</td>\n",
       "      <td>-0.451506</td>\n",
       "      <td>-0.691828</td>\n",
       "      <td>-0.815238</td>\n",
       "      <td>-0.516917</td>\n",
       "      <td>-0.111488</td>\n",
       "      <td>1.426923</td>\n",
       "    </tr>\n",
       "    <tr>\n",
       "      <th>11841</th>\n",
       "      <td>-0.840404</td>\n",
       "      <td>-0.796868</td>\n",
       "      <td>-0.092602</td>\n",
       "      <td>0.294555</td>\n",
       "      <td>-1.443760</td>\n",
       "      <td>-0.405018</td>\n",
       "      <td>-0.150227</td>\n",
       "      <td>-0.140038</td>\n",
       "      <td>-0.196527</td>\n",
       "      <td>-0.169464</td>\n",
       "      <td>...</td>\n",
       "      <td>-0.634121</td>\n",
       "      <td>-0.759640</td>\n",
       "      <td>-0.389110</td>\n",
       "      <td>-0.790765</td>\n",
       "      <td>-0.451506</td>\n",
       "      <td>-0.691828</td>\n",
       "      <td>-0.815238</td>\n",
       "      <td>-0.644038</td>\n",
       "      <td>-0.111488</td>\n",
       "      <td>1.426923</td>\n",
       "    </tr>\n",
       "    <tr>\n",
       "      <th>11842</th>\n",
       "      <td>-0.840404</td>\n",
       "      <td>-0.796868</td>\n",
       "      <td>-0.092602</td>\n",
       "      <td>0.294555</td>\n",
       "      <td>-1.443760</td>\n",
       "      <td>-0.405018</td>\n",
       "      <td>-0.150227</td>\n",
       "      <td>-0.140038</td>\n",
       "      <td>-0.196527</td>\n",
       "      <td>-0.169464</td>\n",
       "      <td>...</td>\n",
       "      <td>-0.634121</td>\n",
       "      <td>-0.759640</td>\n",
       "      <td>-0.389110</td>\n",
       "      <td>-0.692196</td>\n",
       "      <td>-0.451506</td>\n",
       "      <td>-0.500908</td>\n",
       "      <td>-0.456401</td>\n",
       "      <td>-0.644038</td>\n",
       "      <td>-0.111488</td>\n",
       "      <td>-1.720520</td>\n",
       "    </tr>\n",
       "  </tbody>\n",
       "</table>\n",
       "<p>11843 rows × 30 columns</p>\n",
       "</div>"
      ],
      "text/plain": [
       "             0         1         2         3         4         5         6   \\\n",
       "0     -1.265550 -1.029609 -0.095593 -4.048701 -2.432395 -0.022705 -0.120996   \n",
       "1     -1.265550 -1.029609 -0.095593 -4.048701 -2.432395 -0.022705 -0.120996   \n",
       "2     -0.620745 -0.626044 -0.084744 -1.180362 -0.977545 -0.438656 -0.148880   \n",
       "3     -0.620745 -0.626044 -0.084744 -1.180362 -0.977545 -0.438656 -0.148880   \n",
       "4     -0.620745 -0.626044 -0.084744 -1.180362 -0.977545 -0.438656 -0.148880   \n",
       "...         ...       ...       ...       ...       ...       ...       ...   \n",
       "11838 -0.840404 -0.796868 -0.092602  0.294555 -1.443760 -0.405018 -0.150227   \n",
       "11839 -0.840404 -0.796868 -0.092602  0.294555 -1.443760 -0.405018 -0.150227   \n",
       "11840 -0.840404 -0.796868 -0.092602  0.294555 -1.443760 -0.405018 -0.150227   \n",
       "11841 -0.840404 -0.796868 -0.092602  0.294555 -1.443760 -0.405018 -0.150227   \n",
       "11842 -0.840404 -0.796868 -0.092602  0.294555 -1.443760 -0.405018 -0.150227   \n",
       "\n",
       "             7         8         9   ...        20        21        22  \\\n",
       "0     -0.753436 -0.630050  0.055159  ... -0.634121 -0.759640 -0.655738   \n",
       "1     -0.753436 -0.630050  0.055159  ... -0.634121 -0.759640 -0.744615   \n",
       "2     -0.829859 -1.246526 -2.005104  ... -0.634121 -0.759640 -0.744615   \n",
       "3     -0.829859 -1.246526 -2.005104  ... -0.634121 -0.759640 -0.566862   \n",
       "4     -0.829859 -1.246526 -2.005104  ... -0.634121 -0.759640 -0.477986   \n",
       "...         ...       ...       ...  ...       ...       ...       ...   \n",
       "11838 -0.140038 -0.196527 -0.169464  ...  1.047073  0.084975 -0.744615   \n",
       "11839 -0.140038 -0.196527 -0.169464  ... -0.634121  0.084975 -0.744615   \n",
       "11840 -0.140038 -0.196527 -0.169464  ... -0.634121  0.084975 -0.744615   \n",
       "11841 -0.140038 -0.196527 -0.169464  ... -0.634121 -0.759640 -0.389110   \n",
       "11842 -0.140038 -0.196527 -0.169464  ... -0.634121 -0.759640 -0.389110   \n",
       "\n",
       "             23        24        25        26        27        28        29  \n",
       "0     -0.790765 -0.451506 -0.691828 -0.815238 -0.644038 -0.111488  2.857580  \n",
       "1     -0.790765 -0.451506 -0.691828 -0.815238 -0.644038 -0.111488  2.857580  \n",
       "2     -0.790765 -0.451506 -0.691828 -0.815238 -0.644038 -0.111488  2.714514  \n",
       "3     -0.544342  0.053041 -0.500908 -0.456401 -0.516917 -0.111488  2.714514  \n",
       "4     -0.445772  0.053041 -0.309989 -0.456401 -0.516917 -0.111488  2.714514  \n",
       "...         ...       ...       ...       ...       ...       ...       ...  \n",
       "11838 -0.642911 -0.451506 -0.500908 -0.815238 -0.516917 -0.111488  1.426923  \n",
       "11839 -0.495057 -0.451506 -0.691828 -0.097564 -0.389797 -0.111488  1.426923  \n",
       "11840 -0.692196 -0.451506 -0.691828 -0.815238 -0.516917 -0.111488  1.426923  \n",
       "11841 -0.790765 -0.451506 -0.691828 -0.815238 -0.644038 -0.111488  1.426923  \n",
       "11842 -0.692196 -0.451506 -0.500908 -0.456401 -0.644038 -0.111488 -1.720520  \n",
       "\n",
       "[11843 rows x 30 columns]"
      ]
     },
     "execution_count": 13,
     "metadata": {},
     "output_type": "execute_result"
    }
   ],
   "source": [
    "X"
   ]
  },
  {
   "cell_type": "code",
   "execution_count": 29,
   "metadata": {
    "executionInfo": {
     "elapsed": 9002,
     "status": "ok",
     "timestamp": 1606164245268,
     "user": {
      "displayName": "ayush anand",
      "photoUrl": "",
      "userId": "02011070043119957523"
     },
     "user_tz": 300
    },
    "id": "hh5AEL8f15dw"
   },
   "outputs": [],
   "source": [
    "X_whole = X[df2['year'] < 2019]\n",
    "y_whole = y[df2['year'] < 2019]\n",
    "X_valid = X[(df2['year']==2019) & (df2['quarter']==1)]\n",
    "y_valid = y[(df2['year']==2019) & (df2['quarter']==1)]\n",
    "X_valid2 = X[(df2['year']==2019) & (df2['quarter']==2)]\n",
    "y_valid2 = y[(df2['year']==2019) & (df2['quarter']==2)]\n",
    "\n",
    "X_test1= X[(df2['year']==2019) & (df2['quarter']==3)]\n",
    "y_test1 = y[(df2['year']==2019) & (df2['quarter']==3)]\n",
    "\n",
    "X_test2 = X[(df2['year']==2019) & (df2['quarter']==4)]\n",
    "y_test2 = y[(df2['year']==2019) & (df2['quarter']==4)]"
   ]
  },
  {
   "cell_type": "code",
   "execution_count": 30,
   "metadata": {
    "colab": {
     "base_uri": "https://localhost:8080/"
    },
    "executionInfo": {
     "elapsed": 8999,
     "status": "ok",
     "timestamp": 1606164245271,
     "user": {
      "displayName": "ayush anand",
      "photoUrl": "",
      "userId": "02011070043119957523"
     },
     "user_tz": 300
    },
    "id": "KryjnBmJAKwC",
    "outputId": "5f74f196-7a65-4795-b2e8-c52f38229aaf"
   },
   "outputs": [
    {
     "data": {
      "text/plain": [
       "(494, 494, 7999, 7999, 502, 502)"
      ]
     },
     "execution_count": 30,
     "metadata": {},
     "output_type": "execute_result"
    }
   ],
   "source": [
    "len(X_valid),len(y_valid),len(X_whole),len(y_whole),len(X_test1),len(y_test1)"
   ]
  },
  {
   "cell_type": "code",
   "execution_count": null,
   "metadata": {
    "colab": {
     "base_uri": "https://localhost:8080/"
    },
    "executionInfo": {
     "elapsed": 302,
     "status": "ok",
     "timestamp": 1606150076681,
     "user": {
      "displayName": "ayush anand",
      "photoUrl": "",
      "userId": "02011070043119957523"
     },
     "user_tz": 300
    },
    "id": "7g4M7xZ0meFD",
    "outputId": "92f678cc-d402-4786-fa80-47b9352fd597"
   },
   "outputs": [],
   "source": []
  },
  {
   "cell_type": "code",
   "execution_count": 18,
   "metadata": {},
   "outputs": [
    {
     "name": "stdout",
     "output_type": "stream",
     "text": [
      "Requirement already satisfied: xgboost in ./conda/lib/python3.8/site-packages (1.2.1)\r\n",
      "Requirement already satisfied: numpy in ./conda/lib/python3.8/site-packages (from xgboost) (1.18.5)\r\n",
      "Requirement already satisfied: scipy in ./conda/lib/python3.8/site-packages (from xgboost) (1.5.0)\r\n"
     ]
    }
   ],
   "source": [
    "#!pip install xgboost "
   ]
  },
  {
   "cell_type": "code",
   "execution_count": 16,
   "metadata": {
    "id": "t7rYXrvoXiih",
    "scrolled": true
   },
   "outputs": [
    {
     "name": "stdout",
     "output_type": "stream",
     "text": [
      "xgboost,0.660625,0.25797687668733815\n",
      "RF,0.76625,0.2700319273126205\n",
      "SVM,0.86875,0.281834712202348\n",
      "KNN,0.755,0.2608641157406578\n",
      "xgboost,0.67875,0.31287671049751264\n",
      "RF,0.78,0.2998678535440703\n",
      "SVM,0.891875,0.2907552592872469\n",
      "KNN,0.761875,0.25126163478088237\n",
      "xgboost,0.654375,0.270541174685932\n",
      "RF,0.7525,0.2658257106534887\n",
      "SVM,0.870625,0.2780141634740071\n",
      "KNN,0.736875,0.22710390371290845\n",
      "xgboost,0.64125,0.23779488349897293\n",
      "RF,0.731875,0.22736329992859639\n",
      "SVM,0.86375,0.2903787226682406\n",
      "KNN,0.726875,0.20280439608034206\n",
      "xgboost,0.6497811131957474,0.2766605408243634\n",
      "RF,0.7535959974984365,0.27787538856602245\n",
      "SVM,0.8724202626641651,0.26562201677397257\n",
      "KNN,0.7310819262038775,0.24724741668982586\n",
      "0.6569562226391494 0.2711700372388238\n",
      "0.7568441994996873 0.26819283600095967\n",
      "0.873484052532833 0.28132097488116303\n",
      "0.7423413852407755 0.23785629340092332\n"
     ]
    }
   ],
   "source": [
    "from sklearn.model_selection import KFold\n",
    "from xgboost import XGBClassifier\n",
    "from sklearn.metrics import confusion_matrix,accuracy_score,f1_score,cohen_kappa_score\n",
    "from sklearn.ensemble import RandomForestClassifier\n",
    "from sklearn.svm import SVC\n",
    "from sklearn.neighbors import KNeighborsClassifier\n",
    "\n",
    "k = 5\n",
    "kf = KFold(n_splits = k, random_state=0, shuffle=True)\n",
    "\n",
    "accuracy_xgboost0 = 0\n",
    "accuracy_randomforest0 = 0\n",
    "accuracy_svm0 = 0\n",
    "accuracy_knn0 = 0\n",
    "\n",
    "kappa_xgboost0 = 0\n",
    "kappa_randomforest0 = 0\n",
    "kappa_svm0 = 0\n",
    "kappa_knn0 = 0\n",
    "\n",
    "\n",
    "param_xgboost = {}\n",
    "param_xgboost['objective'] = 'multi:softmax'\n",
    "param_xgboost['num_class'] = len(np.unique(y_whole)) + 1 \n",
    "param_xgboost['max_depth'] = 5\n",
    "param_xgboost['learning_rate'] = 0.2\n",
    "param_xgboost['gamma'] = 0\n",
    "\n",
    "param_randomforest = {}\n",
    "param_randomforest['n_estimators'] = 200\n",
    "param_randomforest['max_depth'] = 10\n",
    "\n",
    "param_svm = {}\n",
    "param_svm['probability'] = True\n",
    "param_svm['class_weight'] = 'balanced'\n",
    "param_svm['C'] = 0.01\n",
    "param_svm['gamma'] = 'scale'\n",
    "param_svm['kernel'] = 'rbf'\n",
    "\n",
    "param_knn = {}\n",
    "param_knn['n_neighbors'] = 8\n",
    "param_knn['leaf_size'] = 15\n",
    "\n",
    "for train_index, test_index in kf.split(y_whole):\n",
    "      X_train, X_test = X_whole.iloc[train_index], X_whole.iloc[test_index]\n",
    "      y_train, y_test = y_whole.iloc[train_index], y_whole.iloc[test_index]\n",
    "      \n",
    "      xgboost = XGBClassifier(**param_xgboost)\n",
    "      xgboost.fit(X_train,y_train)\n",
    "      y_pred_xgboost = xgboost.predict(X_test)\n",
    "      confusion_matrix_xgboost = confusion_matrix(y_test, y_pred_xgboost)\n",
    "      accuracy_xgboost = np.sum(np.diagonal(confusion_matrix_xgboost))/np.sum(confusion_matrix_xgboost)\n",
    "      accuracy_xgboost0 = accuracy_xgboost0 + accuracy_xgboost\n",
    "      kappa_xgboost = cohen_kappa_score(y_test, y_pred_xgboost)\n",
    "      kappa_xgboost0 = kappa_xgboost0 + kappa_xgboost\n",
    "      print(\"xgboost,\"+str(accuracy_xgboost) + \",\" +str(kappa_xgboost))\n",
    "\n",
    "      randomforest = RandomForestClassifier(**param_randomforest)\n",
    "      randomforest.fit(X_train,y_train)\n",
    "      y_pred_randomforest = randomforest.predict(X_test)\n",
    "      confusion_matrix_randomforest = confusion_matrix(y_test, y_pred_randomforest)\n",
    "      accuracy_randomforest = np.sum(np.triu(confusion_matrix_randomforest))/np.sum(confusion_matrix_randomforest) \n",
    "      accuracy_randomforest0 = accuracy_randomforest0 + accuracy_randomforest\n",
    "      kappa_randomforest = cohen_kappa_score(y_test, y_pred_randomforest)\n",
    "      kappa_randomforest0 = kappa_randomforest0 + kappa_randomforest\n",
    "      print(\"RF,\"+str(accuracy_randomforest) + \",\" +str(kappa_randomforest))\n",
    "\n",
    "      svm = SVC(**param_svm)\n",
    "      svm.fit(X_train,y_train)\n",
    "      y_pred_svm = svm.predict(X_test)\n",
    "      confusion_matrix_svm = confusion_matrix(y_test, y_pred_svm)\n",
    "      accuracy_svm = np.sum(np.triu(confusion_matrix_svm))/np.sum(confusion_matrix_svm)\n",
    "      accuracy_svm0 = accuracy_svm0 + accuracy_svm\n",
    "      kappa_svm= cohen_kappa_score(y_test, y_pred_svm)\n",
    "      kappa_svm0 = kappa_svm0 + kappa_svm\n",
    "      print(\"SVM,\"+str(accuracy_svm) + \",\" +str(kappa_svm))\n",
    "      \n",
    "\n",
    "      knn = KNeighborsClassifier(**param_knn)\n",
    "      knn.fit(X_train,y_train)\n",
    "      y_pred_knn = knn.predict(X_test)\n",
    "      confusion_matrix_knn = confusion_matrix(y_test, y_pred_knn)\n",
    "      accuracy_knn = np.sum(np.triu(confusion_matrix_knn))/np.sum(confusion_matrix_knn)\n",
    "      accuracy_knn0 = accuracy_knn0 + accuracy_knn\n",
    "      kappa_knn= cohen_kappa_score(y_test, y_pred_knn)\n",
    "      kappa_knn0 = kappa_knn0 + kappa_knn      \n",
    "      print(\"KNN,\"+str(accuracy_knn) + \",\" +str(kappa_knn))\n",
    "\n",
    "accuracy_xgboost_mean= accuracy_xgboost0/k\n",
    "accuracy_randomforest_mean= accuracy_randomforest0/k\n",
    "accuracy_svm_mean= accuracy_svm0/k\n",
    "accuracy_knn_mean= accuracy_knn0/k\n",
    "\n",
    "kappa_xgboost_mean = kappa_xgboost0/k\n",
    "kappa_randomforest_mean = kappa_randomforest0/k\n",
    "kappa_svm_mean = kappa_svm0/k\n",
    "kappa_knn_mean = kappa_knn0/k\n",
    "\n",
    "print(accuracy_xgboost_mean,kappa_xgboost_mean)\n",
    "print(accuracy_randomforest_mean,kappa_randomforest_mean)\n",
    "print(accuracy_svm_mean,kappa_svm_mean)\n",
    "print(accuracy_knn_mean,kappa_knn_mean)"
   ]
  },
  {
   "cell_type": "code",
   "execution_count": 17,
   "metadata": {},
   "outputs": [],
   "source": [
    "from sklearn.ensemble import VotingClassifier\n",
    "\n",
    "xgb = XGBClassifier(**param_xgboost)\n",
    "knn = KNeighborsClassifier(**param_knn)\n",
    "svm = SVC(**param_svm)\n",
    "randomforest = RandomForestClassifier(**param_randomforest)\n",
    "\n",
    "svm2 = SVC(C=0.01, break_ties=False, cache_size=200, class_weight='balanced',\n",
    "    coef0=0.0, decision_function_shape='ovr', degree=3, gamma=0.15,\n",
    "    kernel='rbf', max_iter=-1, probability=True, random_state=None,\n",
    "    shrinking=True, tol=0.000001, verbose=False)\n",
    "\n",
    "\n",
    "voting_clf = VotingClassifier(\n",
    "    estimators=[('knn', knn), ('svm', svm), ('xgb', xgboost), ('RF', randomforest), ('svm2', svm2)],\n",
    "    voting='hard')"
   ]
  },
  {
   "cell_type": "code",
   "execution_count": 18,
   "metadata": {},
   "outputs": [
    {
     "data": {
      "text/plain": [
       "VotingClassifier(estimators=[('knn',\n",
       "                              KNeighborsClassifier(leaf_size=15,\n",
       "                                                   n_neighbors=8)),\n",
       "                             ('svm',\n",
       "                              SVC(C=0.01, class_weight='balanced',\n",
       "                                  probability=True)),\n",
       "                             ('xgb',\n",
       "                              XGBClassifier(base_score=0.5, booster='gbtree',\n",
       "                                            colsample_bylevel=1,\n",
       "                                            colsample_bynode=1,\n",
       "                                            colsample_bytree=1, gamma=0,\n",
       "                                            gpu_id=-1, importance_type='gain',\n",
       "                                            interaction_constraints='',\n",
       "                                            learning_rate=0.2, max_de...\n",
       "                                            n_estimators=100, n_jobs=0,\n",
       "                                            num_class=4, num_parallel_tree=1,\n",
       "                                            objective='multi:softprob',\n",
       "                                            random_state=0, reg_alpha=0,\n",
       "                                            reg_lambda=1, scale_pos_weight=None,\n",
       "                                            subsample=1, tree_method='exact',\n",
       "                                            validate_parameters=1,\n",
       "                                            verbosity=None)),\n",
       "                             ('RF',\n",
       "                              RandomForestClassifier(max_depth=10,\n",
       "                                                     n_estimators=200)),\n",
       "                             ('svm2',\n",
       "                              SVC(C=0.01, class_weight='balanced', gamma=0.15,\n",
       "                                  probability=True, tol=1e-06))])"
      ]
     },
     "execution_count": 18,
     "metadata": {},
     "output_type": "execute_result"
    }
   ],
   "source": [
    "voting_clf.fit(X_whole, y_whole)"
   ]
  },
  {
   "cell_type": "code",
   "execution_count": 19,
   "metadata": {},
   "outputs": [
    {
     "name": "stdout",
     "output_type": "stream",
     "text": [
      "RandomForestClassifier 0.6862348178137652\n",
      "SVC 0.5668016194331984\n",
      "SVC 0.46963562753036436\n",
      "VotingClassifier 0.6740890688259109\n"
     ]
    }
   ],
   "source": [
    "from sklearn.metrics import accuracy_score\n",
    "\n",
    "#for clf in (knn, svm, xgboost,randomforest, svm2, voting_clf):\n",
    "for clf in (randomforest, svm, svm2, voting_clf):\n",
    "    clf.fit(X_whole, y_whole)\n",
    "    y_pred = clf.predict(X_valid)\n",
    "    print(clf.__class__.__name__, accuracy_score(y_valid, y_pred))"
   ]
  },
  {
   "cell_type": "code",
   "execution_count": 20,
   "metadata": {},
   "outputs": [
    {
     "name": "stdout",
     "output_type": "stream",
     "text": [
      "[[283  18  15]\n",
      " [ 79  12  18]\n",
      " [ 27   4  38]]\n"
     ]
    }
   ],
   "source": [
    "from sklearn.metrics import confusion_matrix\n",
    "y_valid_pred_voting = voting_clf.predict(X_valid)\n",
    "confusion_matrix_valid = confusion_matrix(y_valid, y_valid_pred_voting)\n",
    "print(confusion_matrix_valid) "
   ]
  },
  {
   "cell_type": "code",
   "execution_count": 21,
   "metadata": {},
   "outputs": [],
   "source": [
    "from sklearn.ensemble import VotingClassifier\n",
    "from sklearn.model_selection import KFold\n",
    "from xgboost import XGBClassifier\n",
    "from sklearn.metrics import confusion_matrix,accuracy_score,f1_score,cohen_kappa_score\n",
    "from sklearn.ensemble import RandomForestClassifier\n",
    "from sklearn.svm import SVC\n",
    "from sklearn.neighbors import KNeighborsClassifier\n",
    "\n",
    "accuracy_xgboost0 = 0\n",
    "accuracy_randomforest0 = 0\n",
    "accuracy_svm0 = 0\n",
    "accuracy_knn0 = 0\n",
    "\n",
    "kappa_xgboost0 = 0\n",
    "kappa_randomforest0 = 0\n",
    "kappa_svm0 = 0\n",
    "kappa_knn0 = 0\n",
    "\n",
    "\n",
    "param_xgboost = {}\n",
    "param_xgboost['objective'] = 'multi:softmax'\n",
    "param_xgboost['num_class'] = len(np.unique(y_whole)) + 1 \n",
    "param_xgboost['max_depth'] = 5\n",
    "param_xgboost['learning_rate'] = 0.2\n",
    "param_xgboost['gamma'] = 0\n",
    "\n",
    "\n",
    "param_randomforest = {}\n",
    "param_randomforest['n_estimators'] = 200\n",
    "param_randomforest['max_depth'] = 10\n",
    "\n",
    "param_svm = {}\n",
    "param_svm['probability'] = True\n",
    "param_svm['class_weight'] = 'balanced'\n",
    "param_svm['C'] = 0.01\n",
    "param_svm['gamma'] = 'scale'\n",
    "param_svm['kernel'] = 'rbf'\n",
    "\n",
    "param_knn = {}\n",
    "param_knn['n_neighbors'] = 8\n",
    "param_knn['leaf_size'] = 15\n",
    "\n",
    "xgb = XGBClassifier(**param_xgboost)\n",
    "knn = KNeighborsClassifier(**param_knn)\n",
    "svm = SVC(**param_svm)\n",
    "randomforest = RandomForestClassifier(**param_randomforest)\n",
    "\n",
    "svm2 = SVC(C=0.01, break_ties=False, cache_size=200, class_weight='balanced',\n",
    "    coef0=0.0, decision_function_shape='ovr', degree=3, gamma=0.15,\n",
    "    kernel='rbf', max_iter=-1, probability=True, random_state=None,\n",
    "    shrinking=True, tol=0.000001, verbose=False)\n",
    "\n",
    "\n",
    "svm3 =  SVC(C=0.01, break_ties=False, cache_size=200, class_weight='balanced',\n",
    "    coef0=0.0, decision_function_shape='ovr', degree=3, gamma=0.12,\n",
    "    kernel='rbf', max_iter=-1, probability=True, random_state=None,\n",
    "    shrinking=True, tol=0.001, verbose=False)\n",
    " \n",
    "\n",
    "#voting_clf = VotingClassifier( estimators=[('knn', knn), ('svm', svm), ('xgb', xgboost), ('RF', randomforest)],voting='soft')    \n",
    "voting_clf = VotingClassifier( estimators=[('knn', knn), ('svm', svm), ('svm2', svm2),('svm3', svm3),('xgb', xgboost), ('RF', randomforest)],voting='soft')    \n",
    "voting_clf_1 = VotingClassifier( estimators=[('knn', knn), ('svm', svm),('xgb', xgboost), ('RF', randomforest)],voting='soft')    \n",
    "voting_clf_2 = VotingClassifier( estimators=[('knn', knn), ('svm2', svm2),('xgb', xgboost), ('RF', randomforest)],voting='soft')    \n",
    "voting_clf_3 = VotingClassifier( estimators=[('knn', knn), ('svm3', svm3),('xgb', xgboost), ('RF', randomforest)],voting='soft')    "
   ]
  },
  {
   "cell_type": "code",
   "execution_count": 42,
   "metadata": {},
   "outputs": [
    {
     "data": {
      "text/plain": [
       "VotingClassifier(estimators=[('knn',\n",
       "                              KNeighborsClassifier(leaf_size=15,\n",
       "                                                   n_neighbors=8)),\n",
       "                             ('svm3',\n",
       "                              SVC(C=0.01, class_weight='balanced', gamma=0.12,\n",
       "                                  probability=True)),\n",
       "                             ('xgb',\n",
       "                              XGBClassifier(base_score=0.5, booster='gbtree',\n",
       "                                            colsample_bylevel=1,\n",
       "                                            colsample_bynode=1,\n",
       "                                            colsample_bytree=1, gamma=0,\n",
       "                                            gpu_id=-1, importance_type='gain',\n",
       "                                            interaction_constraints='',\n",
       "                                            learning_rat...\n",
       "                                            max_depth=5, min_child_weight=1,\n",
       "                                            missing=nan,\n",
       "                                            monotone_constraints='()',\n",
       "                                            n_estimators=100, n_jobs=0,\n",
       "                                            num_class=4, num_parallel_tree=1,\n",
       "                                            objective='multi:softprob',\n",
       "                                            random_state=0, reg_alpha=0,\n",
       "                                            reg_lambda=1, scale_pos_weight=None,\n",
       "                                            subsample=1, tree_method='exact',\n",
       "                                            validate_parameters=1,\n",
       "                                            verbosity=None)),\n",
       "                             ('RF',\n",
       "                              RandomForestClassifier(max_depth=10,\n",
       "                                                     n_estimators=200))],\n",
       "                 voting='soft')"
      ]
     },
     "execution_count": 42,
     "metadata": {},
     "output_type": "execute_result"
    }
   ],
   "source": [
    "voting_clf.fit(X_whole, y_whole)\n",
    "voting_clf_1.fit(X_whole, y_whole)\n",
    "voting_clf_2.fit(X_whole, y_whole)\n",
    "voting_clf_3.fit(X_whole, y_whole)"
   ]
  },
  {
   "cell_type": "code",
   "execution_count": 44,
   "metadata": {},
   "outputs": [
    {
     "name": "stdout",
     "output_type": "stream",
     "text": [
      "[[293  13  10]\n",
      " [ 88  10  11]\n",
      " [ 25   8  36]]\n"
     ]
    }
   ],
   "source": [
    "from sklearn.metrics import confusion_matrix\n",
    "y_valid_pred_voting = voting_clf_3.predict(X_valid)\n",
    "confusion_matrix_valid = confusion_matrix(y_valid, y_valid_pred_voting)\n",
    "print(confusion_matrix_valid) "
   ]
  },
  {
   "cell_type": "code",
   "execution_count": 22,
   "metadata": {},
   "outputs": [
    {
     "name": "stdout",
     "output_type": "stream",
     "text": [
      "KNeighborsClassifier 0.6680161943319838\n",
      "kappa 0.2707371301522147\n",
      "[[281  26   9]\n",
      " [ 81  20   8]\n",
      " [ 29  11  29]]\n",
      "SVC 0.5668016194331984\n",
      "kappa 0.2608254847258057\n",
      "[[206  60  50]\n",
      " [ 43  30  36]\n",
      " [  4  21  44]]\n",
      "SVC 0.46963562753036436\n",
      "kappa 0.20889948351211762\n",
      "[[146  46 124]\n",
      " [ 26  26  57]\n",
      " [  3   6  60]]\n",
      "SVC 0.5101214574898786\n",
      "kappa 0.2436112394100638\n",
      "[[164  47 105]\n",
      " [ 30  28  51]\n",
      " [  3   6  60]]\n",
      "XGBClassifier 0.6842105263157895\n",
      "kappa 0.3084647206094815\n",
      "[[288  14  14]\n",
      " [ 78  15  16]\n",
      " [ 27   7  35]]\n",
      "RandomForestClassifier 0.6740890688259109\n",
      "kappa 0.27584448693435315\n",
      "[[292  12  12]\n",
      " [ 83   9  17]\n",
      " [ 25  12  32]]\n",
      "VotingClassifier 0.680161943319838\n",
      "kappa 0.28664911895883594\n",
      "[[290  16  10]\n",
      " [ 86   9  14]\n",
      " [ 26   6  37]]\n",
      "VotingClassifier 0.6902834008097166\n",
      "kappa 0.30740683044836836\n",
      "[[293  14   9]\n",
      " [ 85  11  13]\n",
      " [ 25   7  37]]\n",
      "VotingClassifier 0.6842105263157895\n",
      "kappa 0.29542129900526626\n",
      "[[292  14  10]\n",
      " [ 87   9  13]\n",
      " [ 23   9  37]]\n",
      "VotingClassifier 0.6862348178137652\n",
      "kappa 0.29968171508012\n",
      "[[291  15  10]\n",
      " [ 86  11  12]\n",
      " [ 25   7  37]]\n"
     ]
    }
   ],
   "source": [
    "##  1st quarter\n",
    "\n",
    "from sklearn.metrics import accuracy_score\n",
    "\n",
    "#for clf in (knn, svm, xgboost,randomforest, svm2, voting_clf):\n",
    "for clf in (knn, svm,svm2,svm3, xgboost,randomforest, voting_clf,voting_clf_1,voting_clf_2,voting_clf_3):\n",
    "    clf.fit(X_whole, y_whole)\n",
    "    y_pred = clf.predict(X_valid)\n",
    "    print(clf.__class__.__name__, accuracy_score(y_valid, y_pred))\n",
    "    print(\"kappa\", cohen_kappa_score(y_valid, y_pred))    \n",
    "    print(confusion_matrix(y_valid, y_pred))"
   ]
  },
  {
   "cell_type": "code",
   "execution_count": 24,
   "metadata": {},
   "outputs": [
    {
     "name": "stdout",
     "output_type": "stream",
     "text": [
      "KNeighborsClassifier 0.6354378818737271\n",
      "kappa 0.21136176016654107\n",
      "[[277  23   7]\n",
      " [ 80  17  15]\n",
      " [ 34  20  18]]\n",
      "SVC 0.5967413441955194\n",
      "kappa 0.31516846413401056\n",
      "[[210  48  49]\n",
      " [ 39  35  38]\n",
      " [  5  19  48]]\n",
      "SVC 0.5071283095723014\n",
      "kappa 0.26808505395949345\n",
      "[[152  45 110]\n",
      " [ 17  31  64]\n",
      " [  2   4  66]]\n",
      "SVC 0.5437881873727087\n",
      "kappa 0.29776080807564864\n",
      "[[171  52  84]\n",
      " [ 21  31  60]\n",
      " [  2   5  65]]\n",
      "XGBClassifier 0.6435845213849287\n",
      "kappa 0.2544080385963694\n",
      "[[272  27   8]\n",
      " [ 81  13  18]\n",
      " [ 22  19  31]]\n",
      "RandomForestClassifier 0.6619144602851323\n",
      "kappa 0.27099209330614293\n",
      "[[280  19   8]\n",
      " [ 82  17  13]\n",
      " [ 29  15  28]]\n",
      "VotingClassifier 0.6619144602851323\n",
      "kappa 0.271057291573506\n",
      "[[283  15   9]\n",
      " [ 84  10  18]\n",
      " [ 26  14  32]]\n",
      "VotingClassifier 0.6659877800407332\n",
      "kappa 0.2843201734895213\n",
      "[[280  18   9]\n",
      " [ 83  14  15]\n",
      " [ 26  13  33]]\n",
      "VotingClassifier 0.6639511201629328\n",
      "kappa 0.2771938902965633\n",
      "[[280  17  10]\n",
      " [ 84  14  14]\n",
      " [ 27  13  32]]\n",
      "VotingClassifier 0.6639511201629328\n",
      "kappa 0.2802121648275494\n",
      "[[280  17  10]\n",
      " [ 82  14  16]\n",
      " [ 27  13  32]]\n"
     ]
    }
   ],
   "source": [
    "##   2nd quarter\n",
    "\n",
    "from sklearn.metrics import accuracy_score\n",
    "\n",
    "#for clf in (knn, svm, xgboost,randomforest, svm2, voting_clf):\n",
    "for clf in (knn, svm,svm2,svm3, xgboost,randomforest, voting_clf,voting_clf_1,voting_clf_2,voting_clf_3):\n",
    "    clf.fit(X_whole, y_whole)\n",
    "    ##clf.fit(X_valid, y_valid)\n",
    "    y_pred2 = clf.predict(X_valid2)\n",
    "    print(clf.__class__.__name__, accuracy_score(y_valid2, y_pred2))\n",
    "    print(\"kappa\", cohen_kappa_score(y_valid2, y_pred2))    \n",
    "    print(confusion_matrix(y_valid2, y_pred2))"
   ]
  },
  {
   "cell_type": "code",
   "execution_count": null,
   "metadata": {},
   "outputs": [],
   "source": []
  },
  {
   "cell_type": "code",
   "execution_count": 39,
   "metadata": {},
   "outputs": [
    {
     "name": "stdout",
     "output_type": "stream",
     "text": [
      "[[322   0   0]\n",
      " [111   0   0]\n",
      " [ 69   0   0]]\n",
      "0.6414342629482072\n"
     ]
    }
   ],
   "source": [
    "y_pred_baseline1=[0 for x in y_test1]\n",
    "print(confusion_matrix(y_test1, y_pred_baseline1))\n",
    "print(accuracy_score(y_test1, y_pred_baseline1))\n",
    "\n",
    "\n"
   ]
  },
  {
   "cell_type": "code",
   "execution_count": 40,
   "metadata": {},
   "outputs": [
    {
     "name": "stdout",
     "output_type": "stream",
     "text": [
      "[[  0   0 322]\n",
      " [  0   0 111]\n",
      " [  0   0  69]]\n",
      "0.13745019920318724\n"
     ]
    }
   ],
   "source": [
    "y_pred_baseline1=[2 for x in y_test1]\n",
    "print(confusion_matrix(y_test1, y_pred_baseline1))\n",
    "print(accuracy_score(y_test1, y_pred_baseline1))\n",
    "\n"
   ]
  },
  {
   "cell_type": "code",
   "execution_count": 31,
   "metadata": {},
   "outputs": [
    {
     "name": "stdout",
     "output_type": "stream",
     "text": [
      "KNeighborsClassifier 0.6713147410358565\n",
      "kappa 0.282341422840656\n",
      "[[291  21  10]\n",
      " [ 82  18  11]\n",
      " [ 20  21  28]]\n",
      "SVC 0.5896414342629482\n",
      "kappa 0.3015581415767826\n",
      "[[212  53  57]\n",
      " [ 43  33  35]\n",
      " [  2  16  51]]\n",
      "SVC 0.49203187250996017\n",
      "kappa 0.2326505655762764\n",
      "[[161  42 119]\n",
      " [ 26  26  59]\n",
      " [  0   9  60]]\n",
      "SVC 0.5278884462151394\n",
      "kappa 0.26508450286617913\n",
      "[[178  45  99]\n",
      " [ 27  27  57]\n",
      " [  1   8  60]]\n",
      "XGBClassifier 0.6812749003984063\n",
      "kappa 0.29894999607230455\n",
      "[[295  16  11]\n",
      " [ 84  13  14]\n",
      " [ 20  15  34]]\n",
      "RandomForestClassifier 0.6892430278884463\n",
      "kappa 0.31445979305635796\n",
      "[[297  12  13]\n",
      " [ 83  17  11]\n",
      " [ 20  17  32]]\n",
      "VotingClassifier 0.6812749003984063\n",
      "kappa 0.2932190563348057\n",
      "[[297  12  13]\n",
      " [ 87  10  14]\n",
      " [ 20  14  35]]\n",
      "VotingClassifier 0.6852589641434262\n",
      "kappa 0.30847363052215837\n",
      "[[295  13  14]\n",
      " [ 84  14  13]\n",
      " [ 20  14  35]]\n",
      "VotingClassifier 0.6812749003984063\n",
      "kappa 0.29216641844315383\n",
      "[[296  12  14]\n",
      " [ 86  11  14]\n",
      " [ 23  11  35]]\n",
      "VotingClassifier 0.6772908366533864\n",
      "kappa 0.28860974308283105\n",
      "[[294  14  14]\n",
      " [ 84  12  15]\n",
      " [ 23  12  34]]\n"
     ]
    }
   ],
   "source": [
    "## 3rd quarter\n",
    "\n",
    "from sklearn.metrics import accuracy_score\n",
    "\n",
    "#for clf in (knn, svm, xgboost,randomforest, svm2, voting_clf):\n",
    "for clf in (knn, svm,svm2,svm3, xgboost,randomforest, voting_clf,voting_clf_1,voting_clf_2,voting_clf_3):\n",
    "    clf.fit(X_whole, y_whole)\n",
    "    y_pred_test1 = clf.predict(X_test1)\n",
    "    print(clf.__class__.__name__, accuracy_score(y_test1, y_pred_test1))\n",
    "    print(\"kappa\", cohen_kappa_score(y_test1, y_pred_test1))    \n",
    "    print(confusion_matrix(y_test1, y_pred_test1))"
   ]
  },
  {
   "cell_type": "code",
   "execution_count": 33,
   "metadata": {},
   "outputs": [
    {
     "name": "stdout",
     "output_type": "stream",
     "text": [
      "KNeighborsClassifier 0.6391129032258065\n",
      "kappa 0.17955162917921896\n",
      "[[287  23   7]\n",
      " [ 90  16  13]\n",
      " [ 31  15  14]]\n",
      "SVC 0.5463709677419355\n",
      "kappa 0.22939352718183126\n",
      "[[202  54  61]\n",
      " [ 44  32  43]\n",
      " [  9  14  37]]\n",
      "SVC 0.4415322580645161\n",
      "kappa 0.17510521923425604\n",
      "[[149  46 122]\n",
      " [ 26  17  76]\n",
      " [  3   4  53]]\n",
      "SVC 0.4778225806451613\n",
      "kappa 0.2016257838378691\n",
      "[[163  52 102]\n",
      " [ 30  23  66]\n",
      " [  4   5  51]]\n",
      "XGBClassifier 0.6532258064516129\n",
      "kappa 0.2573751512460938\n",
      "[[277  29  11]\n",
      " [ 82  21  16]\n",
      " [ 21  13  26]]\n",
      "RandomForestClassifier 0.6592741935483871\n",
      "kappa 0.25597578619422534\n",
      "[[283  19  15]\n",
      " [ 83  23  13]\n",
      " [ 24  15  21]]\n",
      "VotingClassifier 0.655241935483871\n",
      "kappa 0.2361465097219846\n",
      "[[287  15  15]\n",
      " [ 87  15  17]\n",
      " [ 26  11  23]]\n",
      "VotingClassifier 0.6512096774193549\n",
      "kappa 0.2351341955841586\n",
      "[[283  20  14]\n",
      " [ 86  18  15]\n",
      " [ 24  14  22]]\n",
      "VotingClassifier 0.6491935483870968\n",
      "kappa 0.2303082191780822\n",
      "[[283  21  13]\n",
      " [ 85  18  16]\n",
      " [ 25  14  21]]\n",
      "VotingClassifier 0.6491935483870968\n",
      "kappa 0.23111736721130371\n",
      "[[283  21  13]\n",
      " [ 85  17  17]\n",
      " [ 25  13  22]]\n"
     ]
    }
   ],
   "source": [
    "## 4th quarter\n",
    "\n",
    "from sklearn.metrics import accuracy_score\n",
    "\n",
    "#for clf in (knn, svm, xgboost,randomforest, svm2, voting_clf):\n",
    "for clf in (knn, svm,svm2,svm3, xgboost,randomforest, voting_clf,voting_clf_1,voting_clf_2,voting_clf_3):\n",
    "    clf.fit(X_whole, y_whole)\n",
    "    y_pred_test2 = clf.predict(X_test2)\n",
    "    print(clf.__class__.__name__, accuracy_score(y_test2, y_pred_test2))\n",
    "    print(\"kappa\", cohen_kappa_score(y_test2, y_pred_test2))    \n",
    "    print(confusion_matrix(y_test2, y_pred_test2))"
   ]
  },
  {
   "cell_type": "code",
   "execution_count": 23,
   "metadata": {},
   "outputs": [
    {
     "name": "stdout",
     "output_type": "stream",
     "text": [
      "KNeighborsClassifier 0.6680161943319838\n",
      "kappa 0.2707371301522147\n",
      "[[281  26   9]\n",
      " [ 81  20   8]\n",
      " [ 29  11  29]]\n",
      "SVC 0.5668016194331984\n",
      "kappa 0.2608254847258057\n",
      "[[206  60  50]\n",
      " [ 43  30  36]\n",
      " [  4  21  44]]\n",
      "SVC 0.46963562753036436\n",
      "kappa 0.20889948351211762\n",
      "[[146  46 124]\n",
      " [ 26  26  57]\n",
      " [  3   6  60]]\n",
      "SVC 0.5101214574898786\n",
      "kappa 0.2436112394100638\n",
      "[[164  47 105]\n",
      " [ 30  28  51]\n",
      " [  3   6  60]]\n",
      "XGBClassifier 0.6842105263157895\n",
      "kappa 0.3084647206094815\n",
      "[[288  14  14]\n",
      " [ 78  15  16]\n",
      " [ 27   7  35]]\n",
      "RandomForestClassifier 0.6821862348178138\n",
      "kappa 0.29250248579221516\n",
      "[[292  13  11]\n",
      " [ 84  10  15]\n",
      " [ 25   9  35]]\n",
      "VotingClassifier 0.6862348178137652\n",
      "kappa 0.2948576269937746\n",
      "[[293  13  10]\n",
      " [ 86   9  14]\n",
      " [ 27   5  37]]\n",
      "VotingClassifier 0.6902834008097166\n",
      "kappa 0.3060905969409303\n",
      "[[293  14   9]\n",
      " [ 85  11  13]\n",
      " [ 26   6  37]]\n",
      "VotingClassifier 0.6842105263157895\n",
      "kappa 0.2908764665286404\n",
      "[[292  14  10]\n",
      " [ 87  10  12]\n",
      " [ 26   7  36]]\n",
      "VotingClassifier 0.6842105263157895\n",
      "kappa 0.29330851268695723\n",
      "[[291  15  10]\n",
      " [ 87  11  11]\n",
      " [ 25   8  36]]\n"
     ]
    }
   ],
   "source": [
    "from sklearn.metrics import accuracy_score\n",
    "\n",
    "#for clf in (knn, svm, xgboost,randomforest, svm2, voting_clf):\n",
    "for clf in (knn, svm,svm2,svm3, xgboost,randomforest, voting_clf,voting_clf_1,voting_clf_2,voting_clf_3):\n",
    "    clf.fit(X_whole, y_whole)\n",
    "    y_pred = clf.predict(X_valid)\n",
    "    print(clf.__class__.__name__, accuracy_score(y_valid, y_pred))\n",
    "    print(\"kappa\", cohen_kappa_score(y_valid, y_pred))\n",
    "    print(confusion_matrix(y_valid, y_pred))"
   ]
  },
  {
   "cell_type": "code",
   "execution_count": 27,
   "metadata": {},
   "outputs": [
    {
     "name": "stdout",
     "output_type": "stream",
     "text": [
      "[[281  26   9]\n",
      " [ 81  20   8]\n",
      " [ 29  11  29]]\n"
     ]
    }
   ],
   "source": [
    "knn = KNeighborsClassifier(**param_knn)\n",
    "knn.fit(X_whole, y_whole)\n",
    "y_valid_pred_knn = knn.predict(X_valid)\n",
    "from sklearn.metrics import confusion_matrix\n",
    "confusion_matrix_valid = confusion_matrix(y_valid, y_valid_pred_knn)\n",
    "print(confusion_matrix_valid) "
   ]
  },
  {
   "cell_type": "code",
   "execution_count": 28,
   "metadata": {},
   "outputs": [
    {
     "name": "stdout",
     "output_type": "stream",
     "text": [
      "[[288  14  14]\n",
      " [ 78  15  16]\n",
      " [ 27   7  35]]\n"
     ]
    }
   ],
   "source": [
    "xgb = XGBClassifier(**param_xgboost)\n",
    "xgb.fit(X_whole, y_whole)\n",
    "y_valid_pred_xgb = xgb.predict(X_valid)\n",
    "from sklearn.metrics import confusion_matrix\n",
    "confusion_matrix_valid = confusion_matrix(y_valid, y_valid_pred_xgb)\n",
    "print(confusion_matrix_valid) "
   ]
  },
  {
   "cell_type": "code",
   "execution_count": 29,
   "metadata": {
    "id": "wKxlURocnP_P"
   },
   "outputs": [
    {
     "name": "stdout",
     "output_type": "stream",
     "text": [
      "[[206  60  50]\n",
      " [ 43  30  36]\n",
      " [  4  21  44]]\n"
     ]
    }
   ],
   "source": [
    "from sklearn.svm import SVC\n",
    "\n",
    "final = SVC(**param_svm)\n",
    "final.fit(X_whole, y_whole)\n",
    "y_valid_pred_svc1 = final.predict(X_valid)\n",
    "from sklearn.metrics import confusion_matrix\n",
    "confusion_matrix_valid = confusion_matrix(y_valid, y_valid_pred_svc1)\n",
    "print(confusion_matrix_valid) "
   ]
  },
  {
   "cell_type": "code",
   "execution_count": null,
   "metadata": {
    "id": "rZJJOXRCa4X2"
   },
   "outputs": [],
   "source": []
  },
  {
   "cell_type": "code",
   "execution_count": 30,
   "metadata": {},
   "outputs": [
    {
     "name": "stdout",
     "output_type": "stream",
     "text": [
      "[[168  53  95]\n",
      " [ 33  28  48]\n",
      " [  3   8  58]]\n"
     ]
    }
   ],
   "source": [
    "final = SVC(C=0.01, break_ties=False, cache_size=200, class_weight='balanced',\n",
    "    coef0=0.0, decision_function_shape='ovr', degree=3, gamma=0.11,\n",
    "    kernel='rbf', max_iter=-1, probability=True, random_state=None,\n",
    "    shrinking=True, tol=0.001, verbose=False)\n",
    "final.fit(X_whole, y_whole)\n",
    "final.fit(X_whole, y_whole)\n",
    "y_valid_pred_svc2 = final.predict(X_valid)\n",
    "from sklearn.metrics import confusion_matrix\n",
    "confusion_matrix_valid = confusion_matrix(y_valid, y_valid_pred_svc2)\n",
    "print(confusion_matrix_valid) "
   ]
  },
  {
   "cell_type": "code",
   "execution_count": 31,
   "metadata": {
    "id": "f61bdxapPd4N"
   },
   "outputs": [
    {
     "name": "stdout",
     "output_type": "stream",
     "text": [
      "[[239  57  20]\n",
      " [ 70  22  17]\n",
      " [ 23  19  27]]\n"
     ]
    },
    {
     "name": "stderr",
     "output_type": "stream",
     "text": [
      "/home/ayush/Downloads/conda/lib/python3.8/site-packages/sklearn/svm/_base.py:976: ConvergenceWarning: Liblinear failed to converge, increase the number of iterations.\n",
      "  warnings.warn(\"Liblinear failed to converge, increase \"\n"
     ]
    }
   ],
   "source": [
    "### poly degree 3\n",
    "from sklearn.pipeline import Pipeline\n",
    "from sklearn.preprocessing import PolynomialFeatures\n",
    "from sklearn.svm import LinearSVC\n",
    "\n",
    "polynomial_svm_clf = Pipeline([\n",
    "        (\"poly_features\", PolynomialFeatures(degree=3)),\n",
    "        (\"svm_clf\", LinearSVC(C=20, loss=\"hinge\", random_state=42, max_iter=3000))\n",
    "    ])\n",
    "\n",
    "polynomial_svm_clf.fit(X_whole, y_whole)\n",
    "y_valid_pred = polynomial_svm_clf.predict(X_valid)\n",
    "from sklearn.metrics import confusion_matrix\n",
    "confusion_matrix_valid = confusion_matrix(y_valid, y_valid_pred)\n",
    "print(confusion_matrix_valid) "
   ]
  },
  {
   "cell_type": "code",
   "execution_count": null,
   "metadata": {},
   "outputs": [],
   "source": []
  },
  {
   "cell_type": "code",
   "execution_count": 32,
   "metadata": {
    "id": "4UZtxrD1-2qy"
   },
   "outputs": [
    {
     "name": "stdout",
     "output_type": "stream",
     "text": [
      "[[239  57  20]\n",
      " [ 70  22  17]\n",
      " [ 23  19  27]]\n"
     ]
    }
   ],
   "source": [
    "y_valid_pred = polynomial_svm_clf.predict(X_valid)\n",
    "from sklearn.metrics import confusion_matrix\n",
    "confusion_matrix_valid = confusion_matrix(y_valid, y_valid_pred)\n",
    "print(confusion_matrix_valid) "
   ]
  },
  {
   "cell_type": "code",
   "execution_count": 33,
   "metadata": {},
   "outputs": [],
   "source": [
    "#df_res.to_csv (r'/home/ayush/Downloads/export_dataframe3.csv', index = False, header=True)\n"
   ]
  },
  {
   "cell_type": "code",
   "execution_count": null,
   "metadata": {
    "executionInfo": {
     "elapsed": 489,
     "status": "ok",
     "timestamp": 1606148339490,
     "user": {
      "displayName": "ayush anand",
      "photoUrl": "",
      "userId": "02011070043119957523"
     },
     "user_tz": 300
    },
    "id": "9FlrJqY9RnKz"
   },
   "outputs": [],
   "source": []
  },
  {
   "cell_type": "code",
   "execution_count": null,
   "metadata": {
    "colab": {
     "base_uri": "https://localhost:8080/"
    },
    "executionInfo": {
     "elapsed": 475,
     "status": "ok",
     "timestamp": 1606148339495,
     "user": {
      "displayName": "ayush anand",
      "photoUrl": "",
      "userId": "02011070043119957523"
     },
     "user_tz": 300
    },
    "id": "KWkWwBbOpU8W",
    "outputId": "227f2756-53f0-4e47-db41-124c9b93ebae"
   },
   "outputs": [],
   "source": [
    "\n"
   ]
  },
  {
   "cell_type": "code",
   "execution_count": 164,
   "metadata": {},
   "outputs": [],
   "source": [
    "from sklearn.ensemble import VotingClassifier\n",
    "\n",
    "param_xgboost = {}\n",
    "param_xgboost['objective'] = 'multi:softmax'\n",
    "param_xgboost['num_class'] = len(np.unique(y_whole)) + 1 \n",
    "param_xgboost['max_depth'] = 5\n",
    "param_xgboost['learning_rate'] = 0.2\n",
    "param_xgboost['gamma'] = 0\n",
    "\n",
    "param_randomforest = {}\n",
    "param_randomforest['n_estimators'] = 200\n",
    "param_randomforest['max_depth'] = 10\n",
    "\n",
    "param_svm = {}\n",
    "param_svm['probability'] = True\n",
    "param_svm['class_weight'] = 'balanced'\n",
    "param_svm['C'] = 0.01\n",
    "param_svm['gamma'] = 'scale'\n",
    "param_svm['kernel'] = 'rbf'\n",
    "\n",
    "param_knn = {}\n",
    "param_knn['n_neighbors'] = 8\n",
    "param_knn['leaf_size'] = 15\n",
    "\n",
    "\n",
    "xgb = XGBClassifier(**param_xgboost)\n",
    "knn = KNeighborsClassifier(**param_knn)\n",
    "svm = SVC(**param_svm)\n",
    "randomforest = RandomForestClassifier(**param_randomforest)\n",
    "\n",
    "svm2 = SVC(C=0.01, break_ties=False, cache_size=200, class_weight='balanced',\n",
    "    coef0=0.0, decision_function_shape='ovr', degree=3, gamma=0.15,\n",
    "    kernel='rbf', max_iter=-1, probability=True, random_state=None,\n",
    "    shrinking=True, tol=0.000001, verbose=False)\n",
    "\n",
    "\n",
    "svm3 =  SVC(C=0.01, break_ties=False, cache_size=200, class_weight='balanced',\n",
    "    coef0=0.0, decision_function_shape='ovr', degree=3, gamma=0.12,\n",
    "    kernel='rbf', max_iter=-1, probability=True, random_state=None,\n",
    "    shrinking=True, tol=0.001, verbose=False)\n",
    " \n",
    "#voting_clf2 = VotingClassifier(estimators=[('knn', knn), ('svm', svm), ('xgb', xgboost), ('RF', randomforest), \n",
    "#                                         ('svm2', svm),('svm3', svm3)],    voting='soft')\n",
    "\n",
    "#voting_clf2 = VotingClassifier(estimators=[('knn', knn), ('svm', svm), ('xgb', xgboost), ('RF', randomforest)],    voting='soft')\n",
    "\n",
    "voting_clf_i = VotingClassifier( estimators=[('knn', knn), ('svm3', svm3),('xgb', xgboost), ('RF', randomforest)],voting='hard')    \n"
   ]
  },
  {
   "cell_type": "code",
   "execution_count": 107,
   "metadata": {
    "scrolled": true
   },
   "outputs": [
    {
     "data": {
      "text/plain": [
       "VotingClassifier(estimators=[('knn',\n",
       "                              KNeighborsClassifier(leaf_size=15,\n",
       "                                                   n_neighbors=8)),\n",
       "                             ('svm3',\n",
       "                              SVC(C=0.01, class_weight='balanced', gamma=0.12,\n",
       "                                  probability=True)),\n",
       "                             ('xgb',\n",
       "                              XGBClassifier(base_score=0.5, booster='gbtree',\n",
       "                                            colsample_bylevel=1,\n",
       "                                            colsample_bynode=1,\n",
       "                                            colsample_bytree=1, gamma=0,\n",
       "                                            gpu_id=-1, importance_type='gain',\n",
       "                                            interaction_constraints='',\n",
       "                                            learning_rat...,\n",
       "                                            max_depth=5, min_child_weight=1,\n",
       "                                            missing=nan,\n",
       "                                            monotone_constraints='()',\n",
       "                                            n_estimators=100, n_jobs=0,\n",
       "                                            num_class=4, num_parallel_tree=1,\n",
       "                                            objective='multi:softprob',\n",
       "                                            random_state=0, reg_alpha=0,\n",
       "                                            reg_lambda=1, scale_pos_weight=None,\n",
       "                                            subsample=1, tree_method='exact',\n",
       "                                            validate_parameters=1,\n",
       "                                            verbosity=None)),\n",
       "                             ('RF',\n",
       "                              RandomForestClassifier(max_depth=10,\n",
       "                                                     n_estimators=200))])"
      ]
     },
     "execution_count": 107,
     "metadata": {},
     "output_type": "execute_result"
    }
   ],
   "source": [
    "voting_clf_i.fit(X_train, y_train)"
   ]
  },
  {
   "cell_type": "code",
   "execution_count": null,
   "metadata": {},
   "outputs": [],
   "source": []
  },
  {
   "cell_type": "code",
   "execution_count": 165,
   "metadata": {},
   "outputs": [
    {
     "data": {
      "text/plain": [
       "[array([[0.54094258, 0.24488127, 0.21417615],\n",
       "        [0.49415826, 0.25836559, 0.24747615],\n",
       "        [0.49464941, 0.25804494, 0.24730565],\n",
       "        ...,\n",
       "        [0.92093805, 0.07311444, 0.0059475 ],\n",
       "        [0.92127893, 0.07314855, 0.00557252],\n",
       "        [0.92090237, 0.07333216, 0.00576546]]),\n",
       " array([[9.9449569e-01, 5.1914421e-03, 3.1290698e-04],\n",
       "        [9.5541298e-01, 4.2916078e-02, 1.6710047e-03],\n",
       "        [9.7625071e-01, 2.2697404e-02, 1.0519231e-03],\n",
       "        ...,\n",
       "        [9.5015806e-01, 4.7988955e-02, 1.8529593e-03],\n",
       "        [9.5368356e-01, 4.5197282e-02, 1.1191630e-03],\n",
       "        [9.3249869e-01, 6.5683946e-02, 1.8173965e-03]], dtype=float32),\n",
       " array([[0.97426057, 0.024115  , 0.00162443],\n",
       "        [0.93481028, 0.06046026, 0.00472946],\n",
       "        [0.94621973, 0.05040783, 0.00337244],\n",
       "        ...,\n",
       "        [0.91930821, 0.07641921, 0.00427257],\n",
       "        [0.92307736, 0.07214096, 0.00478168],\n",
       "        [0.91865572, 0.07651274, 0.00483154]])]"
      ]
     },
     "execution_count": 165,
     "metadata": {},
     "output_type": "execute_result"
    }
   ],
   "source": [
    "\n",
    "probas"
   ]
  },
  {
   "cell_type": "code",
   "execution_count": 166,
   "metadata": {},
   "outputs": [
    {
     "data": {
      "text/plain": [
       "(array([[0.54094258, 0.24488127, 0.21417615],\n",
       "        [0.49415826, 0.25836559, 0.24747615],\n",
       "        [0.49464941, 0.25804494, 0.24730565],\n",
       "        ...,\n",
       "        [0.92093805, 0.07311444, 0.0059475 ],\n",
       "        [0.92127893, 0.07314855, 0.00557252],\n",
       "        [0.92090237, 0.07333216, 0.00576546]]),\n",
       " array([[9.9449569e-01, 5.1914421e-03, 3.1290698e-04],\n",
       "        [9.5541298e-01, 4.2916078e-02, 1.6710047e-03],\n",
       "        [9.7625071e-01, 2.2697404e-02, 1.0519231e-03],\n",
       "        ...,\n",
       "        [9.5015806e-01, 4.7988955e-02, 1.8529593e-03],\n",
       "        [9.5368356e-01, 4.5197282e-02, 1.1191630e-03],\n",
       "        [9.3249869e-01, 6.5683946e-02, 1.8173965e-03]], dtype=float32),\n",
       " array([[0.97426057, 0.024115  , 0.00162443],\n",
       "        [0.93481028, 0.06046026, 0.00472946],\n",
       "        [0.94621973, 0.05040783, 0.00337244],\n",
       "        ...,\n",
       "        [0.91930821, 0.07641921, 0.00427257],\n",
       "        [0.92307736, 0.07214096, 0.00478168],\n",
       "        [0.91865572, 0.07651274, 0.00483154]]))"
      ]
     },
     "execution_count": 166,
     "metadata": {},
     "output_type": "execute_result"
    }
   ],
   "source": [
    "#probas[0],probas[1],probas[2]"
   ]
  },
  {
   "cell_type": "code",
   "execution_count": 216,
   "metadata": {},
   "outputs": [],
   "source": [
    "a = 1\n",
    "b = 1\n",
    "c = 1\n",
    "probas = [c.fit(X_whole, y_whole).predict_proba(X_whole) for c in ( svm3, xgboost, randomforest)]\n",
    "X_whole_proba = np.concatenate((a*probas[0],b*probas[1],c*probas[2]), axis=1)\n",
    "\n",
    "probas_valid = [c.predict_proba(X_valid) for c in (svm3, xgboost, randomforest)]\n",
    "X_valid_proba= np.concatenate((a*probas_valid[0],b*probas_valid[1],c*probas_valid[2]), axis=1)"
   ]
  },
  {
   "cell_type": "code",
   "execution_count": 217,
   "metadata": {},
   "outputs": [],
   "source": [
    "#X_whole_proba[7998]"
   ]
  },
  {
   "cell_type": "code",
   "execution_count": 218,
   "metadata": {},
   "outputs": [],
   "source": [
    "#y_whole"
   ]
  },
  {
   "cell_type": "code",
   "execution_count": null,
   "metadata": {},
   "outputs": [],
   "source": []
  },
  {
   "cell_type": "code",
   "execution_count": 219,
   "metadata": {},
   "outputs": [],
   "source": [
    "#X_valid_proba[493]"
   ]
  },
  {
   "cell_type": "code",
   "execution_count": 220,
   "metadata": {},
   "outputs": [],
   "source": [
    "#y_valid"
   ]
  },
  {
   "cell_type": "code",
   "execution_count": 221,
   "metadata": {},
   "outputs": [
    {
     "name": "stdout",
     "output_type": "stream",
     "text": [
      "[[250  50  16]\n",
      " [ 69  23  17]\n",
      " [ 17  14  38]]\n",
      "0.6295546558704453\n"
     ]
    }
   ],
   "source": [
    "from sklearn.pipeline import Pipeline\n",
    "from sklearn.preprocessing import PolynomialFeatures\n",
    "from sklearn.svm import LinearSVC\n",
    "\n",
    "\n",
    "polynomial_svm_clf=RandomForestClassifier(**param_randomforest)\n",
    "\n",
    "polynomial_svm_clf.fit(X_whole_proba, y_whole)\n",
    "y_valid_pred = polynomial_svm_clf.predict(X_valid_proba)\n",
    "from sklearn.metrics import confusion_matrix\n",
    "confusion_matrix_valid = confusion_matrix(y_valid, y_valid_pred)\n",
    "print(confusion_matrix_valid) \n",
    "print(accuracy_score(y_valid, y_valid_pred)) "
   ]
  },
  {
   "cell_type": "code",
   "execution_count": 222,
   "metadata": {},
   "outputs": [
    {
     "name": "stdout",
     "output_type": "stream",
     "text": [
      "[[250  48  18]\n",
      " [ 68  26  15]\n",
      " [ 20  13  36]]\n",
      "0.631578947368421\n"
     ]
    }
   ],
   "source": [
    "#voting_clf2.get_params()\n",
    "\n",
    "\n",
    "from sklearn.pipeline import Pipeline\n",
    "from sklearn.preprocessing import PolynomialFeatures\n",
    "from sklearn.svm import LinearSVC\n",
    "\n",
    "param_svm = {}\n",
    "param_svm['C'] = 10\n",
    "param_svm['gamma'] = 5\n",
    "param_svm['kernel'] = 'rbf'\n",
    "\n",
    "\n",
    "\n",
    "polynomial_svm_clf=SVC(**param_svm)\n",
    "\n",
    "polynomial_svm_clf.fit(X_whole_proba, y_whole)\n",
    "y_valid_pred = polynomial_svm_clf.predict(X_valid_proba)\n",
    "from sklearn.metrics import confusion_matrix\n",
    "confusion_matrix_valid = confusion_matrix(y_valid, y_valid_pred)\n",
    "print(confusion_matrix_valid) \n",
    "print(accuracy_score(y_valid, y_valid_pred)) "
   ]
  },
  {
   "cell_type": "code",
   "execution_count": 223,
   "metadata": {},
   "outputs": [
    {
     "name": "stdout",
     "output_type": "stream",
     "text": [
      "[[252  48  16]\n",
      " [ 71  24  14]\n",
      " [ 21  11  37]]\n",
      "0.6336032388663968\n"
     ]
    }
   ],
   "source": [
    "#voting_clf2.get_params()\n",
    "\n",
    "\n",
    "from sklearn.pipeline import Pipeline\n",
    "from sklearn.preprocessing import PolynomialFeatures\n",
    "from sklearn.svm import LinearSVC\n",
    "\n",
    "param_svm = {}\n",
    "param_svm['C'] = 10\n",
    "param_svm['coef0'] = 100\n",
    "param_svm['kernel'] = 'poly'\n",
    "param_svm['degree'] = 3\n",
    "\n",
    "\n",
    "\n",
    "polynomial_svm_clf=SVC(**param_svm)\n",
    "\n",
    "polynomial_svm_clf.fit(X_whole_proba, y_whole)\n",
    "y_valid_pred = polynomial_svm_clf.predict(X_valid_proba)\n",
    "from sklearn.metrics import confusion_matrix\n",
    "confusion_matrix_valid = confusion_matrix(y_valid, y_valid_pred)\n",
    "print(confusion_matrix_valid) \n",
    "print(accuracy_score(y_valid, y_valid_pred)) \n",
    "\n",
    "\n",
    "\n"
   ]
  },
  {
   "cell_type": "code",
   "execution_count": 162,
   "metadata": {},
   "outputs": [
    {
     "data": {
      "text/plain": [
       "array([0, 0, 0, 1, 0, 0, 0, 0, 2, 1, 0, 0, 0, 0, 1, 0, 0, 0, 0, 0, 0, 0,\n",
       "       0, 1, 0, 0, 0, 2, 0, 0, 0, 0, 0, 0, 0, 0, 0, 0, 0, 0, 0, 0, 0, 0,\n",
       "       2, 1, 2, 1, 0, 1, 0, 1, 1, 0, 0, 1, 0, 1, 0, 0, 0, 0, 0, 0, 0, 2,\n",
       "       0, 0, 0, 0, 0, 0, 0, 2, 0, 0, 0, 0, 0, 0, 0, 0, 0, 2, 0, 0, 2, 0,\n",
       "       0, 0, 0, 0, 0, 0, 0, 0, 0, 0, 0, 0, 0, 0, 0, 0, 0, 0, 0, 0, 0, 1,\n",
       "       1, 0, 0, 1, 1, 0, 0, 2, 2, 0, 0, 0, 1, 0, 0, 0, 0, 0, 0, 1, 0, 0,\n",
       "       0, 0, 0, 0, 1, 2, 1, 0, 1, 2, 0, 0, 0, 2, 0, 0, 0, 0, 0, 0, 0, 0,\n",
       "       0, 0, 0, 0, 0, 0, 0, 0, 0, 0, 0, 0, 0, 0, 0, 0, 0, 0, 2, 0, 0, 1,\n",
       "       0, 1, 0, 0, 0, 0, 0, 0, 0, 0, 0, 0, 0, 1, 0, 0, 0, 0, 0, 0, 0, 0,\n",
       "       0, 0, 0, 0, 0, 0, 1, 2, 1, 0, 0, 2, 2, 1, 2, 0, 0, 0, 0, 0, 0, 0,\n",
       "       0, 0, 0, 2, 1, 1, 0, 0, 0, 2, 0, 0, 1, 0, 2, 0, 1, 1, 1, 2, 0, 0,\n",
       "       0, 1, 2, 2, 2, 0, 0, 0, 1, 0, 0, 0, 0, 0, 1, 0, 1, 0, 1, 0, 0, 0,\n",
       "       2, 0, 2, 2, 0, 0, 0, 1, 2, 2, 0, 0, 0, 0, 0, 0, 2, 2, 0, 1, 0, 0,\n",
       "       1, 1, 0, 2, 2, 1, 2, 2, 2, 0, 0, 2, 1, 0, 0, 2, 2, 1, 1, 0, 2, 2,\n",
       "       2, 2, 2, 2, 2, 2, 1, 0, 0, 1, 0, 1, 0, 0, 2, 0, 2, 2, 0, 1, 1, 1,\n",
       "       0, 1, 2, 0, 0, 0, 0, 1, 2, 2, 2, 2, 1, 2, 2, 2, 2, 2, 0, 0, 0, 0,\n",
       "       0, 1, 0, 2, 2, 0, 0, 2, 1, 0, 1, 1, 2, 1, 0, 0, 2, 1, 1, 1, 1, 0,\n",
       "       0, 1, 0, 0, 0, 0, 1, 0, 0, 0, 2, 0, 0, 2, 1, 0, 0, 0, 0, 0, 0, 2,\n",
       "       1, 0, 0, 1, 0, 0, 0, 0, 0, 0, 1, 0, 0, 0, 2, 1, 1, 0, 0, 0, 1, 0,\n",
       "       0, 0, 0, 0, 1, 0, 0, 0, 1, 0, 0, 0, 0, 0, 0, 1, 1, 0, 1, 1, 2, 0,\n",
       "       0, 0, 0, 0, 0, 0, 0, 0, 0, 0, 0, 1, 0, 1, 0, 0, 2, 0, 0, 0, 0, 0,\n",
       "       0, 1, 0, 1, 0, 0, 0, 0, 0, 0, 0, 0, 2, 0, 0, 0, 0, 0, 0, 1, 0, 0,\n",
       "       1, 0, 1, 0, 0, 0, 0, 0, 0, 0])"
      ]
     },
     "execution_count": 162,
     "metadata": {},
     "output_type": "execute_result"
    }
   ],
   "source": [
    "y_valid_pred"
   ]
  },
  {
   "cell_type": "code",
   "execution_count": 163,
   "metadata": {},
   "outputs": [
    {
     "data": {
      "text/plain": [
       "0.6396761133603239"
      ]
     },
     "execution_count": 163,
     "metadata": {},
     "output_type": "execute_result"
    }
   ],
   "source": [
    "accuracy_score(y_valid, y_valid_pred)"
   ]
  },
  {
   "cell_type": "code",
   "execution_count": null,
   "metadata": {},
   "outputs": [],
   "source": []
  },
  {
   "cell_type": "code",
   "execution_count": 118,
   "metadata": {},
   "outputs": [
    {
     "name": "stderr",
     "output_type": "stream",
     "text": [
      "/home/ayush/Downloads/conda/lib/python3.8/site-packages/sklearn/model_selection/_search.py:847: FutureWarning: The parameter 'iid' is deprecated in 0.22 and will be removed in 0.24.\n",
      "  warnings.warn(\n"
     ]
    },
    {
     "data": {
      "text/plain": [
       "{'mean_fit_time': array([1.3522326 , 1.03302822, 0.79739456, 0.80114489, 0.97343154,\n",
       "        2.26054082, 1.1617938 , 1.0247005 , 0.72209215, 0.72494769,\n",
       "        0.82063231, 3.38435535, 0.97173648, 0.73378878, 0.66340919,\n",
       "        0.726086  , 0.85953283, 3.97713647, 0.82042675, 0.689713  ,\n",
       "        0.8419579 , 1.19219499, 1.35051517, 5.48957863, 0.82800398,\n",
       "        0.727247  , 1.0627018 , 1.54070077, 1.67700119, 6.20185304,\n",
       "        0.82678051, 0.81227884, 1.43656716, 2.3506218 , 2.3803648 ,\n",
       "        7.20602689, 0.79308858, 0.95202498, 1.9699194 , 3.1234622 ,\n",
       "        3.38711987, 8.78985286]),\n",
       " 'std_fit_time': array([0.01505104, 0.03417304, 0.0614999 , 0.0237097 , 0.03856123,\n",
       "        0.13582422, 0.0322265 , 0.14689771, 0.03225455, 0.01505541,\n",
       "        0.02583369, 0.183741  , 0.07318979, 0.03551459, 0.02799299,\n",
       "        0.01037341, 0.01741958, 0.46332475, 0.05764495, 0.03008568,\n",
       "        0.03796941, 0.06985289, 0.02965081, 0.64426102, 0.04017501,\n",
       "        0.02775698, 0.08076243, 0.04065939, 0.16842652, 0.68141348,\n",
       "        0.03207493, 0.03566933, 0.0945457 , 0.06143883, 0.13145794,\n",
       "        0.99542731, 0.04963925, 0.02398068, 0.08272478, 0.33959629,\n",
       "        0.39369485, 1.52504155]),\n",
       " 'mean_score_time': array([0.21918917, 0.18585558, 0.14531422, 0.15556898, 0.15132103,\n",
       "        0.27427993, 0.20420237, 0.18141346, 0.14063115, 0.13403125,\n",
       "        0.14347153, 0.29830866, 0.17521963, 0.14424872, 0.11580944,\n",
       "        0.11161513, 0.12283883, 0.30162029, 0.14710045, 0.12162728,\n",
       "        0.10455117, 0.10059233, 0.11068797, 0.30330186, 0.1402123 ,\n",
       "        0.11613464, 0.10255504, 0.10039515, 0.10954585, 0.29397306,\n",
       "        0.13660688, 0.11087532, 0.0979538 , 0.09761119, 0.1068192 ,\n",
       "        0.29373837, 0.131352  , 0.1072051 , 0.0961792 , 0.09558535,\n",
       "        0.10552416, 0.2683455 ]),\n",
       " 'std_score_time': array([0.00650615, 0.00893516, 0.0116953 , 0.01467245, 0.00868538,\n",
       "        0.00741827, 0.00665688, 0.01061884, 0.0045025 , 0.00528121,\n",
       "        0.00453889, 0.00925169, 0.00460597, 0.00508269, 0.00431968,\n",
       "        0.00518388, 0.00560864, 0.01511093, 0.00531437, 0.00437728,\n",
       "        0.00561726, 0.00378442, 0.00340478, 0.00711692, 0.00428201,\n",
       "        0.00437687, 0.00416683, 0.00490167, 0.00383146, 0.01259508,\n",
       "        0.0044255 , 0.00376937, 0.00486994, 0.00384958, 0.00321308,\n",
       "        0.01031793, 0.00468881, 0.00414918, 0.00360346, 0.00415934,\n",
       "        0.00300302, 0.04603369]),\n",
       " 'param_C': masked_array(data=[0.1, 0.1, 0.1, 0.1, 0.1, 0.1, 1, 1, 1, 1, 1, 1, 10, 10,\n",
       "                    10, 10, 10, 10, 100, 100, 100, 100, 100, 100, 200, 200,\n",
       "                    200, 200, 200, 200, 500, 500, 500, 500, 500, 500, 1000,\n",
       "                    1000, 1000, 1000, 1000, 1000],\n",
       "              mask=[False, False, False, False, False, False, False, False,\n",
       "                    False, False, False, False, False, False, False, False,\n",
       "                    False, False, False, False, False, False, False, False,\n",
       "                    False, False, False, False, False, False, False, False,\n",
       "                    False, False, False, False, False, False, False, False,\n",
       "                    False, False],\n",
       "        fill_value='?',\n",
       "             dtype=object),\n",
       " 'param_gamma': masked_array(data=[0.01, 0.1, 1, 5, 10, 100, 0.01, 0.1, 1, 5, 10, 100,\n",
       "                    0.01, 0.1, 1, 5, 10, 100, 0.01, 0.1, 1, 5, 10, 100,\n",
       "                    0.01, 0.1, 1, 5, 10, 100, 0.01, 0.1, 1, 5, 10, 100,\n",
       "                    0.01, 0.1, 1, 5, 10, 100],\n",
       "              mask=[False, False, False, False, False, False, False, False,\n",
       "                    False, False, False, False, False, False, False, False,\n",
       "                    False, False, False, False, False, False, False, False,\n",
       "                    False, False, False, False, False, False, False, False,\n",
       "                    False, False, False, False, False, False, False, False,\n",
       "                    False, False],\n",
       "        fill_value='?',\n",
       "             dtype=object),\n",
       " 'params': [{'C': 0.1, 'gamma': 0.01},\n",
       "  {'C': 0.1, 'gamma': 0.1},\n",
       "  {'C': 0.1, 'gamma': 1},\n",
       "  {'C': 0.1, 'gamma': 5},\n",
       "  {'C': 0.1, 'gamma': 10},\n",
       "  {'C': 0.1, 'gamma': 100},\n",
       "  {'C': 1, 'gamma': 0.01},\n",
       "  {'C': 1, 'gamma': 0.1},\n",
       "  {'C': 1, 'gamma': 1},\n",
       "  {'C': 1, 'gamma': 5},\n",
       "  {'C': 1, 'gamma': 10},\n",
       "  {'C': 1, 'gamma': 100},\n",
       "  {'C': 10, 'gamma': 0.01},\n",
       "  {'C': 10, 'gamma': 0.1},\n",
       "  {'C': 10, 'gamma': 1},\n",
       "  {'C': 10, 'gamma': 5},\n",
       "  {'C': 10, 'gamma': 10},\n",
       "  {'C': 10, 'gamma': 100},\n",
       "  {'C': 100, 'gamma': 0.01},\n",
       "  {'C': 100, 'gamma': 0.1},\n",
       "  {'C': 100, 'gamma': 1},\n",
       "  {'C': 100, 'gamma': 5},\n",
       "  {'C': 100, 'gamma': 10},\n",
       "  {'C': 100, 'gamma': 100},\n",
       "  {'C': 200, 'gamma': 0.01},\n",
       "  {'C': 200, 'gamma': 0.1},\n",
       "  {'C': 200, 'gamma': 1},\n",
       "  {'C': 200, 'gamma': 5},\n",
       "  {'C': 200, 'gamma': 10},\n",
       "  {'C': 200, 'gamma': 100},\n",
       "  {'C': 500, 'gamma': 0.01},\n",
       "  {'C': 500, 'gamma': 0.1},\n",
       "  {'C': 500, 'gamma': 1},\n",
       "  {'C': 500, 'gamma': 5},\n",
       "  {'C': 500, 'gamma': 10},\n",
       "  {'C': 500, 'gamma': 100},\n",
       "  {'C': 1000, 'gamma': 0.01},\n",
       "  {'C': 1000, 'gamma': 0.1},\n",
       "  {'C': 1000, 'gamma': 1},\n",
       "  {'C': 1000, 'gamma': 5},\n",
       "  {'C': 1000, 'gamma': 10},\n",
       "  {'C': 1000, 'gamma': 100}],\n",
       " 'split0_test_score': array([0.668125, 0.79625 , 0.84125 , 0.855   , 0.85375 , 0.639375,\n",
       "        0.800625, 0.84625 , 0.865625, 0.87375 , 0.873125, 0.799375,\n",
       "        0.845625, 0.87    , 0.879375, 0.886875, 0.886875, 0.806875,\n",
       "        0.868125, 0.878125, 0.889375, 0.885   , 0.875625, 0.809375,\n",
       "        0.87125 , 0.879375, 0.885625, 0.88375 , 0.875   , 0.80875 ,\n",
       "        0.875   , 0.885625, 0.886875, 0.88    , 0.8775  , 0.806875,\n",
       "        0.8775  , 0.884375, 0.88625 , 0.87625 , 0.875625, 0.80375 ]),\n",
       " 'split1_test_score': array([0.714375, 0.839375, 0.87125 , 0.880625, 0.88125 , 0.640625,\n",
       "        0.8425  , 0.880625, 0.895625, 0.899375, 0.896875, 0.844375,\n",
       "        0.885   , 0.89625 , 0.906875, 0.908125, 0.905   , 0.85625 ,\n",
       "        0.895   , 0.905   , 0.906875, 0.903125, 0.89625 , 0.8475  ,\n",
       "        0.8975  , 0.9075  , 0.90625 , 0.9     , 0.891875, 0.845   ,\n",
       "        0.89625 , 0.9075  , 0.90875 , 0.894375, 0.884375, 0.8425  ,\n",
       "        0.89875 , 0.908125, 0.905   , 0.890625, 0.876875, 0.835   ]),\n",
       " 'split2_test_score': array([0.7125  , 0.879375, 0.90125 , 0.91125 , 0.914375, 0.63875 ,\n",
       "        0.875   , 0.894375, 0.920625, 0.924375, 0.92125 , 0.8725  ,\n",
       "        0.884375, 0.915625, 0.928125, 0.931875, 0.924375, 0.8725  ,\n",
       "        0.9025  , 0.921875, 0.935   , 0.925625, 0.909375, 0.863125,\n",
       "        0.904375, 0.923125, 0.934375, 0.921875, 0.90875 , 0.860625,\n",
       "        0.910625, 0.926875, 0.934375, 0.91375 , 0.90125 , 0.854375,\n",
       "        0.918125, 0.92625 , 0.935   , 0.910625, 0.8975  , 0.848125]),\n",
       " 'split3_test_score': array([0.803125, 0.83125 , 0.865   , 0.87625 , 0.87375 , 0.639375,\n",
       "        0.83375 , 0.868125, 0.8925  , 0.898125, 0.90125 , 0.801875,\n",
       "        0.8625  , 0.886875, 0.9025  , 0.90625 , 0.9     , 0.791875,\n",
       "        0.87375 , 0.89375 , 0.908125, 0.88    , 0.8725  , 0.79    ,\n",
       "        0.88125 , 0.8925  , 0.9025  , 0.878125, 0.866875, 0.795625,\n",
       "        0.885625, 0.8975  , 0.900625, 0.87375 , 0.865625, 0.79875 ,\n",
       "        0.88875 , 0.898125, 0.896875, 0.869375, 0.864375, 0.808125]),\n",
       " 'split4_test_score': array([0.66353971, 0.79799875, 0.83427142, 0.84365228, 0.84177611,\n",
       "        0.64290181, 0.80425266, 0.83239525, 0.86366479, 0.86741714,\n",
       "        0.86679174, 0.80050031, 0.8286429 , 0.85803627, 0.88305191,\n",
       "        0.87992495, 0.87554722, 0.79862414, 0.85303315, 0.87992495,\n",
       "        0.87929956, 0.87742339, 0.86429018, 0.80050031, 0.85928705,\n",
       "        0.88180113, 0.87992495, 0.86679174, 0.86429018, 0.80237649,\n",
       "        0.86366479, 0.87992495, 0.87617261, 0.86116323, 0.86116323,\n",
       "        0.79612258, 0.87116948, 0.87992495, 0.88055034, 0.86429018,\n",
       "        0.86241401, 0.79674797]),\n",
       " 'mean_test_score': array([0.71233294, 0.82884975, 0.86260428, 0.87335546, 0.87298022,\n",
       "        0.64020536, 0.83122553, 0.86435405, 0.88760796, 0.89260843,\n",
       "        0.89185835, 0.82372506, 0.86122858, 0.88535725, 0.89998538,\n",
       "        0.90260999, 0.89835944, 0.82522483, 0.87848163, 0.89573499,\n",
       "        0.90373491, 0.89423468, 0.88360804, 0.82210006, 0.88273241,\n",
       "        0.89686023, 0.90173499, 0.89010835, 0.88135804, 0.8224753 ,\n",
       "        0.88623296, 0.89948499, 0.90135952, 0.88460765, 0.87798265,\n",
       "        0.81972452, 0.8908589 , 0.89935999, 0.90073507, 0.88223304,\n",
       "        0.8753578 , 0.81834959]),\n",
       " 'std_test_score': array([0.05016476, 0.03060677, 0.02380225, 0.02330846, 0.02500403,\n",
       "        0.00147946, 0.02725296, 0.02249152, 0.02114169, 0.02037437,\n",
       "        0.01978137, 0.02971583, 0.02194426, 0.02009663, 0.01764743,\n",
       "        0.01823352, 0.01658848, 0.03272316, 0.01803891, 0.01632881,\n",
       "        0.01902594, 0.01808267, 0.01663762, 0.0282386 , 0.01655422,\n",
       "        0.01645943, 0.01908691, 0.01915546, 0.01674766, 0.02559706,\n",
       "        0.01631676, 0.01669184, 0.01994674, 0.0180745 , 0.01426933,\n",
       "        0.02400613, 0.0165909 , 0.01675526, 0.01910191, 0.01673081,\n",
       "        0.01249651, 0.01973895]),\n",
       " 'rank_test_score': array([41, 34, 31, 28, 29, 42, 33, 30, 17, 13, 14, 36, 32, 19,  6,  2,  9,\n",
       "        35, 25, 11,  1, 12, 21, 38, 22, 10,  3, 16, 24, 37, 18,  7,  4, 20,\n",
       "        26, 39, 15,  8,  5, 23, 27, 40], dtype=int32)}"
      ]
     },
     "execution_count": 118,
     "metadata": {},
     "output_type": "execute_result"
    }
   ],
   "source": [
    "from sklearn.model_selection import GridSearchCV \n",
    "\n",
    "\n",
    "\n",
    "param_test1 = {\n",
    "  'C':(.1,1,10,100,200,500,1000),\n",
    "  'gamma':(.01,.1,1,5,10,100)\n",
    "}\n",
    "gsearch1 = GridSearchCV(estimator = SVC(kernel='rbf'), \n",
    "param_grid = param_test1,scoring='accuracy', n_jobs=4,iid=False, cv=5)\n",
    "gsearch1.fit(X_whole_proba,y_whole)\n",
    "gsearch1.cv_results_"
   ]
  },
  {
   "cell_type": "code",
   "execution_count": 123,
   "metadata": {},
   "outputs": [
    {
     "data": {
      "text/plain": [
       "LinearRegression()"
      ]
     },
     "execution_count": 123,
     "metadata": {},
     "output_type": "execute_result"
    }
   ],
   "source": [
    "from sklearn.preprocessing import PolynomialFeatures\n",
    "from sklearn.linear_model import LinearRegression\n",
    "\n",
    "poly_features = PolynomialFeatures(degree=3, include_bias=False)\n",
    "X_poly = poly_features.fit_transform(X_whole_proba)\n",
    "\n",
    "lin_reg = LinearRegression()\n",
    "lin_reg.fit(X_poly, y_whole)\n"
   ]
  },
  {
   "cell_type": "code",
   "execution_count": 124,
   "metadata": {},
   "outputs": [],
   "source": [
    "X_poly_valid = poly_features.fit_transform(X_valid_proba)"
   ]
  },
  {
   "cell_type": "code",
   "execution_count": 125,
   "metadata": {},
   "outputs": [
    {
     "name": "stdout",
     "output_type": "stream",
     "text": [
      "0.20424125481745936\n"
     ]
    }
   ],
   "source": [
    "print(lin_reg.score(X_poly_valid, y_valid))"
   ]
  },
  {
   "cell_type": "code",
   "execution_count": null,
   "metadata": {},
   "outputs": [],
   "source": []
  }
 ],
 "metadata": {
  "colab": {
   "collapsed_sections": [],
   "name": "Prediction_by_quarter_v11.ipynb",
   "provenance": [
    {
     "file_id": "1pgZo4D9ZmCEmzZ4gbD2PNq-kGWyoVC9y",
     "timestamp": 1606112244995
    },
    {
     "file_id": "1g0V2JgQisfVec9AieQOGZi57aHJiJSHm",
     "timestamp": 1606103796255
    }
   ]
  },
  "kernelspec": {
   "display_name": "Python 3",
   "language": "python",
   "name": "python3"
  },
  "language_info": {
   "codemirror_mode": {
    "name": "ipython",
    "version": 3
   },
   "file_extension": ".py",
   "mimetype": "text/x-python",
   "name": "python",
   "nbconvert_exporter": "python",
   "pygments_lexer": "ipython3",
   "version": "3.8.3"
  }
 },
 "nbformat": 4,
 "nbformat_minor": 1
}
